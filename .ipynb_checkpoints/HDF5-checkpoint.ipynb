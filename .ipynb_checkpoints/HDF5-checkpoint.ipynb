{
 "cells": [
  {
   "cell_type": "markdown",
   "metadata": {},
   "source": [
    "# Data I/O\n",
    "Here we will discuss a few strategies at data access. We will investigate two approaches, one using DataFrames, and another using the HDF5 file format."
   ]
  },
  {
   "cell_type": "markdown",
   "metadata": {},
   "source": [
    "## HDF5\n",
    "\n",
    "The Hierarchical Data Format v.5 (HDF5) is a format for large data storage which, as the name implies, allows for hierarchical field of data. HDF5 offers us an \"easy\" way to save and access experimental data in a portable way, as HDF5 is an open standard and has been implemented in Java, Matlab, Mathematica, Python, R, and of course for our purposes, Julia. This is in contrast to, for example, the Matlab-specific `.mat` file format. While other open approaches, such as pickling (Python), XML, or even raw CSV dumps, can be used, these methods don't scale well to the storage of large sets of diverse data. \n"
   ]
  },
  {
   "cell_type": "code",
   "execution_count": null,
   "metadata": {
    "collapsed": false
   },
   "outputs": [],
   "source": [
    "# Grab the HDF5 package if you don't have it already.\n",
    "Pkg.add(\"HDF5\")\n",
    "Pkg.build(\"HDF5\")"
   ]
  },
  {
   "cell_type": "code",
   "execution_count": 1,
   "metadata": {
    "collapsed": false
   },
   "outputs": [],
   "source": [
    "# Use this package\n",
    "using HDF5"
   ]
  },
  {
   "cell_type": "markdown",
   "metadata": {},
   "source": [
    "Now, lets construct a dataset. Lets say that we have a stochastic experiment, and we need to run this experiment and store the results for further analysis. "
   ]
  },
  {
   "cell_type": "code",
   "execution_count": 2,
   "metadata": {
    "collapsed": false
   },
   "outputs": [
    {
     "data": {
      "text/plain": [
       "run_experiment_foo (generic function with 1 method)"
      ]
     },
     "execution_count": 2,
     "metadata": {},
     "output_type": "execute_result"
    }
   ],
   "source": [
    "\"\"\"\n",
    "run_experiment_foo(;freq = 1.0, sigma = 0.2, N = 1000)\n",
    "\n",
    "# Description\n",
    "Run our fake experiment.\n",
    "\"\"\"\n",
    "function run_experiment_foo(;freq = 1.0, sigma = 0.2, N = 1000)\n",
    "    if N > 2000\n",
    "        error(\"Whoa! We encountered an arbitrary bug in our experiment!\")\n",
    "    end\n",
    "    y = [sin(freq*i) for i in linspace(0,2*pi,N)]\n",
    "    z = y + sigma*randn(size(y))\n",
    "    timeStamp = now()\n",
    "    return y, z, timeStamp\n",
    "end"
   ]
  },
  {
   "cell_type": "code",
   "execution_count": 3,
   "metadata": {
    "collapsed": false
   },
   "outputs": [
    {
     "ename": "LoadError",
     "evalue": "LoadError: Whoa! We encountered an arbitrary bug in our experiment!\nwhile loading In[3], in expression starting on line 19",
     "output_type": "error",
     "traceback": [
      "LoadError: Whoa! We encountered an arbitrary bug in our experiment!\nwhile loading In[3], in expression starting on line 19",
      "",
      " in run_experiment_foo at In[2]:9",
      " [inlined code] from In[3]:21",
      " in anonymous at no file:20"
     ]
    }
   ],
   "source": [
    "# Set some parameters on your experiment\n",
    "numTrials = 5\n",
    "\n",
    "# We will run four different experiments with four different settings\n",
    "freqs  = [0.2, 0.5,1.0,2.0]\n",
    "sigmas = [0.01,0.5,0.2,1.0]\n",
    "\n",
    "# Some names for our different experiments\n",
    "expNames = [\"experimentA\",\"experimentB\", \"experimentC\", \"experimentD\"]\n",
    "\n",
    "# Construct a set of parameters for our experiments\n",
    "params = Dict()\n",
    "params[expNames[1]] = Dict(\"freq\" => 0.2, \"sigma\" => 0.01, \"N\" => 50)\n",
    "params[expNames[2]] = Dict(\"freq\" => 0.5, \"sigma\" => 0.50, \"N\" => 100)\n",
    "params[expNames[3]] = Dict(\"freq\" => 1.0, \"sigma\" => 0.20, \"N\" => 1000)\n",
    "params[expNames[4]] = Dict(\"freq\" => 2.0, \"sigma\" => 1.00, \"N\" => 5000)\n",
    "\n",
    "# Run the different experiments\n",
    "for exp in expNames\n",
    "    for trial in 1:numTrials\n",
    "        groundTruth, noisy, timeStamp = run_experiment_foo(freq  = params[exp][\"freq\"],\n",
    "                                                           sigma = params[exp][\"sigma\"], \n",
    "                                                           N = params[exp][\"N\"])\n",
    "    end    \n",
    "end"
   ]
  },
  {
   "cell_type": "markdown",
   "metadata": {},
   "source": [
    "So, now we have our experimental framework, but where is our result data? We could store it in an array at each loop, but then what happens if our execution terminates, or we encounter a bug like the one we see above? We could potentially lose all of our data if, for example, our Julia session crashes, the computer is turned off, water starts coming from the ENS ceiling, etc. So a better pipeline would be to save our data as we go. Lets use HDF5 to accomplish that."
   ]
  },
  {
   "cell_type": "code",
   "execution_count": 31,
   "metadata": {
    "collapsed": false
   },
   "outputs": [
    {
     "name": "stdout",
     "output_type": "stream",
     "text": [
      "Writing to group [experimentA/trial1/]\n",
      "Writing to group [experimentA/trial2/]\n",
      "Writing to group [experimentA/trial3/]\n",
      "Writing to group [experimentA/trial4/]\n",
      "Writing to group [experimentA/trial5/]\n",
      "Writing to group [experimentB/trial1/]\n",
      "Writing to group [experimentB/trial2/]\n",
      "Writing to group [experimentB/trial3/]\n",
      "Writing to group [experimentB/trial4/]\n",
      "Writing to group [experimentB/trial5/]\n",
      "Writing to group [experimentC/trial1/]\n",
      "Writing to group [experimentC/trial2/]\n",
      "Writing to group [experimentC/trial3/]\n",
      "Writing to group [experimentC/trial4/]\n",
      "Writing to group [experimentC/trial5/]\n"
     ]
    },
    {
     "ename": "LoadError",
     "evalue": "LoadError: Whoa! We encountered an arbitrary bug in our experiment!\nwhile loading In[31], in expression starting on line 5",
     "output_type": "error",
     "traceback": [
      "LoadError: Whoa! We encountered an arbitrary bug in our experiment!\nwhile loading In[31], in expression starting on line 5",
      "",
      " in run_experiment_foo at In[2]:9",
      " [inlined code] from In[31]:10",
      " in anonymous at no file:9"
     ]
    }
   ],
   "source": [
    "# Some arbitrary file\n",
    "h5FileName = \"testExperiment.h5\"\n",
    "\n",
    "# Run the different experiments\n",
    "for exp in expNames\n",
    "    h5write(h5FileName, string(exp,\"/params/freq\"), [params[exp][\"freq\"]])\n",
    "    h5write(h5FileName, string(exp,\"/params/sigma\"), [params[exp][\"sigma\"]])\n",
    "        h5write(h5FileName, string(exp,\"/params/N\"), [params[exp][\"N\"]])\n",
    "    for trial in 1:numTrials\n",
    "        trueData, noisyData, timeStamp = run_experiment_foo(freq  = params[exp][\"freq\"],\n",
    "                                                           sigma = params[exp][\"sigma\"], \n",
    "                                                           N = params[exp][\"N\"])\n",
    "        # For clarity, construct the prefix\n",
    "        h5TrialDataPath = string(exp,\"/trial\",trial,\"/\")\n",
    "        println(\"Writing to group [$h5TrialDataPath]\")\n",
    "        \n",
    "        # Write data to HDF5\n",
    "        h5write(h5FileName, string(h5TrialDataPath,\"trueData\"), trueData)\n",
    "        h5write(h5FileName, string(h5TrialDataPath,\"noisyData\"), noisyData)\n",
    "        h5write(h5FileName, string(h5TrialDataPath,\"timeStamp\"), string(timeStamp))\n",
    "    end    \n",
    "end"
   ]
  },
  {
   "cell_type": "markdown",
   "metadata": {},
   "source": [
    "And there we go! We now have all of our experimental data stored in an HDF5 file for later perusal. For example, lets say that we wanted to take a look at the results of the first experiment."
   ]
  },
  {
   "cell_type": "code",
   "execution_count": 32,
   "metadata": {
    "collapsed": false
   },
   "outputs": [
    {
     "data": {
      "text/plain": [
       "Dict{ByteString,Any} with 6 entries:\n",
       "  \"trial3\" => Dict{ByteString,Any}(\"trueData\"=>[0.0,0.0256428,0.0512688,0.07686…\n",
       "  \"trial2\" => Dict{ByteString,Any}(\"trueData\"=>[0.0,0.0256428,0.0512688,0.07686…\n",
       "  \"trial4\" => Dict{ByteString,Any}(\"trueData\"=>[0.0,0.0256428,0.0512688,0.07686…\n",
       "  \"trial1\" => Dict{ByteString,Any}(\"trueData\"=>[0.0,0.0256428,0.0512688,0.07686…\n",
       "  \"params\" => Dict{ByteString,Any}(\"sigma\"=>[0.01],\"N\"=>[50],\"freq\"=>[0.2])\n",
       "  \"trial5\" => Dict{ByteString,Any}(\"trueData\"=>[0.0,0.0256428,0.0512688,0.07686…"
      ]
     },
     "execution_count": 32,
     "metadata": {},
     "output_type": "execute_result"
    }
   ],
   "source": [
    "expA = h5read(h5FileName,expNames[1])"
   ]
  },
  {
   "cell_type": "code",
   "execution_count": 33,
   "metadata": {
    "collapsed": false
   },
   "outputs": [
    {
     "data": {
      "text/plain": [
       "Dict{ByteString,Any} with 3 entries:\n",
       "  \"sigma\" => [0.01]\n",
       "  \"N\"     => [50]\n",
       "  \"freq\"  => [0.2]"
      ]
     },
     "execution_count": 33,
     "metadata": {},
     "output_type": "execute_result"
    }
   ],
   "source": [
    "# What conditions did we run this experiment under?\n",
    "expA[\"params\"]"
   ]
  },
  {
   "cell_type": "markdown",
   "metadata": {},
   "source": [
    "Lets say we want to do a visualization of our dataset..."
   ]
  },
  {
   "cell_type": "code",
   "execution_count": null,
   "metadata": {
    "collapsed": true
   },
   "outputs": [],
   "source": [
    "using PyPlot\n",
    "g = h5open(h5FileName,\"r\")\n",
    "\n",
    "hold(\"on\")\n",
    "\n",
    "for\n",
    "\n",
    "\n",
    "hold(\"off\")\n",
    "close(g)\n"
   ]
  }
 ],
 "metadata": {
  "kernelspec": {
   "display_name": "Julia 0.4.1-pre",
   "language": "julia",
   "name": "julia-0.4"
  },
  "language_info": {
   "file_extension": ".jl",
   "mimetype": "application/julia",
   "name": "julia",
   "version": "0.4.1"
  }
 },
 "nbformat": 4,
 "nbformat_minor": 0
}
