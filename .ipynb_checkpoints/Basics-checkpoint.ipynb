{
 "cells": [
  {
   "cell_type": "markdown",
   "metadata": {},
   "source": [
    "# Julia Basics\n",
    "In this notebook we are going to take a look at the very basics of Julia, learning the syntax and the very basics of the language. We'll take the perspective that most everyone is coming from Matlab. From Matlab, must of the functionality is quite similar!"
   ]
  },
  {
   "cell_type": "markdown",
   "metadata": {},
   "source": [
    "## Running Julia Code\n",
    "The Julia REPL is much like the one which you find in Matlab. You are able to run a single command at a time and look at a common workspace. This is a great way to tackle simple debugging or to do a simple computation. However, the most common way to interact through your experiments will be by running a Julia script file of some sort, denoted like by the `*.jl` extension. Given a Julia script, lets say, `foo.jl`, we can run this command from the terminal via\n",
    "\n",
    "```bash\n",
    "bash> julia foo.jl\n",
    "```\n",
    "\n",
    "Or we can run it from the REPL via\n",
    "\n",
    "```bash\n",
    "julia> include(\"foo.jl\")\n",
    "```\n",
    "\n",
    "Note, here, the use of the function `include(...)`. This function will execute the contents of a script file within the current context of the REPL. Though, we must be careful if we are re-defining certain procedures. Depending on what our script does, sometimes running it twice in succession might result in undefined results due to redefinitions or overwritten variables.\n",
    "\n",
    "```bash\n",
    "julia> include(\"foo.jl\")\n",
    "(...some output...)\n",
    "julia> include(\"foo.jl\")\n",
    "(...perhaps and error or unepxected output...)\n",
    "```\n",
    "\n",
    "Another way to interface with Julia is as we are doing here, through a Jupyter notebook.\n",
    "\n",
    "-----"
   ]
  },
  {
   "cell_type": "markdown",
   "metadata": {},
   "source": [
    "## Getting Help: Documentation\n",
    "Another first thing to cover is how to find the information you need about specific functions. Most of the packages in Julia are well-documented. Of course, in fast-moving, new packages, there is often a lot of work to be done. However, all the core functionality has some good documentation. Lets say we want to know something about the fast Fourier transform (FFT). First, lets take a look at the documentaiton for the `apropos(...)` function. Note that if we want to know about a function, we just need to use the `?` prefix in the REPL."
   ]
  },
  {
   "cell_type": "code",
   "execution_count": 1,
   "metadata": {
    "collapsed": false
   },
   "outputs": [
    {
     "name": "stdout",
     "output_type": "stream",
     "text": [
      "search: apropos\n",
      "\n"
     ]
    },
    {
     "data": {
      "text/latex": [
       "\\begin{verbatim}\n",
       "apropos(string)\n",
       "\\end{verbatim}\n",
       "Search through all documention for a string, ignoring case.\n"
      ],
      "text/markdown": [
       "```\n",
       "apropos(string)\n",
       "```\n",
       "\n",
       "Search through all documention for a string, ignoring case.\n"
      ],
      "text/plain": [
       "```\n",
       "apropos(string)\n",
       "```\n",
       "\n",
       "Search through all documention for a string, ignoring case.\n"
      ]
     },
     "execution_count": 1,
     "metadata": {},
     "output_type": "execute_result"
    }
   ],
   "source": [
    "?apropos   "
   ]
  },
  {
   "cell_type": "markdown",
   "metadata": {},
   "source": [
    "We can see that `apropos(...)` can be a very useful function if we are looking for a function that covers a certain topic, but we don't know exactly what function we're looking for. So, lets try to see if there is something using the Fourier transform."
   ]
  },
  {
   "cell_type": "code",
   "execution_count": 2,
   "metadata": {
    "collapsed": false
   },
   "outputs": [
    {
     "name": "stdout",
     "output_type": "stream",
     "text": [
      "fft\n"
     ]
    }
   ],
   "source": [
    "apropos(\"fourier\")   # Note that strings in Julia are represented with double quotes! \"...\""
   ]
  },
  {
   "cell_type": "markdown",
   "metadata": {},
   "source": [
    "So, we see that there is one function which matches our query, lets check the documentation!"
   ]
  },
  {
   "cell_type": "code",
   "execution_count": 3,
   "metadata": {
    "collapsed": false
   },
   "outputs": [
    {
     "name": "stdout",
     "output_type": "stream",
     "text": [
      "search: fft fft! FFTW fftshift rfft ifft bfft ifft! bfft! ifftshift irfft brfft\n",
      "\n"
     ]
    },
    {
     "data": {
      "text/latex": [
       "\\begin{verbatim}\n",
       "fft(A [, dims])\n",
       "\\end{verbatim}\n",
       "Performs a multidimensional FFT of the array \\texttt{A}.  The optional \\texttt{dims} argument specifies an iterable subset of dimensions (e.g. an integer, range, tuple, or array) to transform along.  Most efficient if the size of \\texttt{A} along the transformed dimensions is a product of small primes; see \\texttt{nextprod()}.  See also \\texttt{plan_fft()} for even greater efficiency.\n",
       "A one-dimensional FFT computes the one-dimensional discrete Fourier transform (DFT) as defined by\n",
       "$$\\operatorname{DFT}(A)[k] =\n",
       "  \\sum_{n=1}^{\\operatorname{length}(A)}\n",
       "  \\exp\\left(-i\\frac{2\\pi\n",
       "  (n-1)(k-1)}{\\operatorname{length}(A)} \\right) A[n].$$A multidimensional FFT simply performs this operation along each transformed dimension of \\texttt{A}.\n",
       "Higher performance is usually possible with multi-threading. Use \\texttt{FFTW.set_num_threads(np)} to use \\texttt{np} threads, if you have \\texttt{np} processors.\n"
      ],
      "text/markdown": [
       "```\n",
       "fft(A [, dims])\n",
       "```\n",
       "\n",
       "Performs a multidimensional FFT of the array `A`.  The optional `dims` argument specifies an iterable subset of dimensions (e.g. an integer, range, tuple, or array) to transform along.  Most efficient if the size of `A` along the transformed dimensions is a product of small primes; see `nextprod()`.  See also `plan_fft()` for even greater efficiency.\n",
       "\n",
       "A one-dimensional FFT computes the one-dimensional discrete Fourier transform (DFT) as defined by\n",
       "\n",
       "$\\operatorname{DFT}(A)[k] =\n",
       "  \\sum_{n=1}^{\\operatorname{length}(A)}\n",
       "  \\exp\\left(-i\\frac{2\\pi\n",
       "  (n-1)(k-1)}{\\operatorname{length}(A)} \\right) A[n].$\n",
       "A multidimensional FFT simply performs this operation along each transformed dimension of `A`.\n",
       "\n",
       "Higher performance is usually possible with multi-threading. Use `FFTW.set_num_threads(np)` to use `np` threads, if you have `np` processors.\n"
      ],
      "text/plain": [
       "```\n",
       "fft(A [, dims])\n",
       "```\n",
       "\n",
       "Performs a multidimensional FFT of the array `A`.  The optional `dims` argument specifies an iterable subset of dimensions (e.g. an integer, range, tuple, or array) to transform along.  Most efficient if the size of `A` along the transformed dimensions is a product of small primes; see `nextprod()`.  See also `plan_fft()` for even greater efficiency.\n",
       "\n",
       "A one-dimensional FFT computes the one-dimensional discrete Fourier transform (DFT) as defined by\n",
       "\n",
       "$\\operatorname{DFT}(A)[k] =\n",
       "  \\sum_{n=1}^{\\operatorname{length}(A)}\n",
       "  \\exp\\left(-i\\frac{2\\pi\n",
       "  (n-1)(k-1)}{\\operatorname{length}(A)} \\right) A[n].$\n",
       "A multidimensional FFT simply performs this operation along each transformed dimension of `A`.\n",
       "\n",
       "Higher performance is usually possible with multi-threading. Use `FFTW.set_num_threads(np)` to use `np` threads, if you have `np` processors.\n"
      ]
     },
     "execution_count": 3,
     "metadata": {},
     "output_type": "execute_result"
    }
   ],
   "source": [
    "?fft"
   ]
  },
  {
   "cell_type": "markdown",
   "metadata": {},
   "source": [
    "We can see that the doc-strings associated with `fft(...)` make use of both Markdown and TeX strings for a rich set of documentation!\n",
    "\n",
    "------"
   ]
  },
  {
   "cell_type": "markdown",
   "metadata": {},
   "source": [
    "## Arrays and Lists\n",
    "Lets do a few basic operations to see how Julia works with arrays."
   ]
  },
  {
   "cell_type": "code",
   "execution_count": 37,
   "metadata": {
    "collapsed": false
   },
   "outputs": [
    {
     "data": {
      "text/plain": [
       "false"
      ]
     },
     "execution_count": 37,
     "metadata": {},
     "output_type": "execute_result"
    }
   ],
   "source": [
    "A = [1 2 3 4 5]     # Define an Array, A\n",
    "B = [1,2,3,4,5]     # Define an Array, B\n",
    "A == B              # Are these the same array?"
   ]
  },
  {
   "cell_type": "markdown",
   "metadata": {},
   "source": [
    "What happened, here? We thought that we have two arrays, each containing the same entries, but they don't evaluate as equal. Lets investigate a bit. Can we add these arrays together?"
   ]
  },
  {
   "cell_type": "code",
   "execution_count": 17,
   "metadata": {
    "collapsed": false
   },
   "outputs": [
    {
     "ename": "LoadError",
     "evalue": "LoadError: DimensionMismatch(\"dimensions must match\")\nwhile loading In[17], in expression starting on line 1",
     "output_type": "error",
     "traceback": [
      "LoadError: DimensionMismatch(\"dimensions must match\")\nwhile loading In[17], in expression starting on line 1",
      "",
      " in promote_shape at operators.jl:211",
      " in + at arraymath.jl:96"
     ]
    }
   ],
   "source": [
    "C = A + B"
   ]
  },
  {
   "cell_type": "markdown",
   "metadata": {},
   "source": [
    "In fact, we cannot, even add these two arrays together. However, our error message gives us some information. It seems that we have a mismatch of dimensionality. But, why?"
   ]
  },
  {
   "cell_type": "code",
   "execution_count": 14,
   "metadata": {
    "collapsed": false
   },
   "outputs": [
    {
     "name": "stdout",
     "output_type": "stream",
     "text": [
      "Array(Int64,(1,5)) 1x5 Array{Int64,2}:\n",
      " 1  2  3  4  5\n"
     ]
    }
   ],
   "source": [
    "dump(A)"
   ]
  },
  {
   "cell_type": "code",
   "execution_count": 15,
   "metadata": {
    "collapsed": false
   },
   "outputs": [
    {
     "name": "stdout",
     "output_type": "stream",
     "text": [
      "Array(Int64,(5,)) [1,2,3,4,5]\n"
     ]
    }
   ],
   "source": [
    "dump(B)"
   ]
  },
  {
   "cell_type": "markdown",
   "metadata": {},
   "source": [
    "Now we see the issue. In our definition of `A`, we used spaces, while in our definition of `B` we use commas. By using spaces, we are forcing the entries to take new columns, making `A` a *two-dimensional array*. However, `B` remains a one dimensional array, or list, as we refer to items separated by commas. Hence the mismatch!\n",
    "\n",
    "Lets say we are still intent on adding these two arrays together, and we know that the `A` has only one row. We can cast it as a vector to accomplish our desired operation."
   ]
  },
  {
   "cell_type": "code",
   "execution_count": 18,
   "metadata": {
    "collapsed": false
   },
   "outputs": [
    {
     "data": {
      "text/plain": [
       "5-element Array{Int64,1}:\n",
       "  2\n",
       "  4\n",
       "  6\n",
       "  8\n",
       " 10"
      ]
     },
     "execution_count": 18,
     "metadata": {},
     "output_type": "execute_result"
    }
   ],
   "source": [
    "C = vec(A) + B"
   ]
  },
  {
   "cell_type": "markdown",
   "metadata": {},
   "source": [
    "We can see that the resulting output is as a list, a one dimensional array. But what happens if we attempt to use the transpose operation, thinking that we can change the column-vector `A` to be compatible with the row-vector `B`?"
   ]
  },
  {
   "cell_type": "code",
   "execution_count": 20,
   "metadata": {
    "collapsed": false
   },
   "outputs": [
    {
     "data": {
      "text/plain": [
       "5x1 Array{Int64,2}:\n",
       "  2\n",
       "  4\n",
       "  6\n",
       "  8\n",
       " 10"
      ]
     },
     "execution_count": 20,
     "metadata": {},
     "output_type": "execute_result"
    }
   ],
   "source": [
    "C = A' + B"
   ]
  },
  {
   "cell_type": "markdown",
   "metadata": {},
   "source": [
    "The result is indeed a row-vector, however, notice the difference in dimensionlaity. In this case, the result `C` is explicitly a *two-dimensional array*, which just happens to have a single column. So, we see that Julia will **promote** the type of `B` from a list to a two-dimensional array in order to accomplish the addition as all lists/vectors are assumed to be row-vectors.\n",
    "\n",
    "Now, lets say we want to do something a little bit more interesting. One of the features of Julia is that it can handle operation **broadcasting** in a simple manner. We denote a broadcast by the `.` operator before the operation. Lets see what happens if we try to add our column and row vectors together..."
   ]
  },
  {
   "cell_type": "code",
   "execution_count": 21,
   "metadata": {
    "collapsed": false
   },
   "outputs": [
    {
     "data": {
      "text/plain": [
       "5x5 Array{Int64,2}:\n",
       " 2  3  4  5   6\n",
       " 3  4  5  6   7\n",
       " 4  5  6  7   8\n",
       " 5  6  7  8   9\n",
       " 6  7  8  9  10"
      ]
     },
     "execution_count": 21,
     "metadata": {},
     "output_type": "execute_result"
    }
   ],
   "source": [
    "C = A .+ B"
   ]
  },
  {
   "cell_type": "markdown",
   "metadata": {},
   "source": [
    "This is an interesting result. We see that we get a full matrix of values. Why? When we broadcast an operation between a matrix and a vector, it will extend the vector out (via repetition) to math the dimension of the matrix. In this case, both vectors are extended out to fit the non-singleton dimension of the other. Subsequently, the addition operation is carried out. We could duplicate the same operation explicitly via..."
   ]
  },
  {
   "cell_type": "code",
   "execution_count": 25,
   "metadata": {
    "collapsed": false
   },
   "outputs": [
    {
     "data": {
      "text/plain": [
       "5x5 Array{Int64,2}:\n",
       " 2  3  4  5   6\n",
       " 3  4  5  6   7\n",
       " 4  5  6  7   8\n",
       " 5  6  7  8   9\n",
       " 6  7  8  9  10"
      ]
     },
     "execution_count": 25,
     "metadata": {},
     "output_type": "execute_result"
    }
   ],
   "source": [
    "C = repmat(A,5,1) + repmat(B,1,5)"
   ]
  },
  {
   "cell_type": "code",
   "execution_count": 26,
   "metadata": {
    "collapsed": false
   },
   "outputs": [
    {
     "name": "stdout",
     "output_type": "stream",
     "text": [
      "search: repmat\n",
      "\n"
     ]
    },
    {
     "data": {
      "text/latex": [
       "\\begin{verbatim}\n",
       "repmat(A, n, m)\n",
       "\\end{verbatim}\n",
       "Construct a matrix by repeating the given matrix \\texttt{n} times in dimension 1 and \\texttt{m} times in dimension 2.\n"
      ],
      "text/markdown": [
       "```\n",
       "repmat(A, n, m)\n",
       "```\n",
       "\n",
       "Construct a matrix by repeating the given matrix `n` times in dimension 1 and `m` times in dimension 2.\n"
      ],
      "text/plain": [
       "```\n",
       "repmat(A, n, m)\n",
       "```\n",
       "\n",
       "Construct a matrix by repeating the given matrix `n` times in dimension 1 and `m` times in dimension 2.\n"
      ]
     },
     "execution_count": 26,
     "metadata": {},
     "output_type": "execute_result"
    }
   ],
   "source": [
    "?repmat"
   ]
  },
  {
   "cell_type": "markdown",
   "metadata": {},
   "source": [
    "Lets try some other ways of constructing `A` and `B`. We can also define *ranges* of variables. In this case, lets use the range `1:5`, which is understood as the range `1:1:5` by Julia, i.e., counting from 1 to 5, inclusively, by ones."
   ]
  },
  {
   "cell_type": "code",
   "execution_count": 40,
   "metadata": {
    "collapsed": false
   },
   "outputs": [
    {
     "data": {
      "text/plain": [
       "5-element Array{Int64,1}:\n",
       "  2\n",
       "  4\n",
       "  6\n",
       "  8\n",
       " 10"
      ]
     },
     "execution_count": 40,
     "metadata": {},
     "output_type": "execute_result"
    }
   ],
   "source": [
    "A = 1:5\n",
    "C = A + B"
   ]
  },
  {
   "cell_type": "markdown",
   "metadata": {},
   "source": [
    "This is a valid addition operation, in our case. The range of `A` is interpreted as a vector, in this case, and added to `B`. What happens if `B` is also a list?"
   ]
  },
  {
   "cell_type": "code",
   "execution_count": 42,
   "metadata": {
    "collapsed": false
   },
   "outputs": [
    {
     "data": {
      "text/plain": [
       "2:2:10"
      ]
     },
     "execution_count": 42,
     "metadata": {},
     "output_type": "execute_result"
    }
   ],
   "source": [
    "B = 1:5\n",
    "C = A + B"
   ]
  },
  {
   "cell_type": "markdown",
   "metadata": {},
   "source": [
    "We can see that instead of getting a vector, we get another range, taken as the addition of the elements of each of the individual ranges, e.g. `1+1:1+1:5+5`. Considering our previous result of `[2,4,6,8,10]`, we see that this range is still giving us an expected result, just in a different form. What if we wanted to read this as a vector?"
   ]
  },
  {
   "cell_type": "code",
   "execution_count": 43,
   "metadata": {
    "collapsed": false
   },
   "outputs": [
    {
     "data": {
      "text/plain": [
       "5-element Array{Int64,1}:\n",
       "  2\n",
       "  4\n",
       "  6\n",
       "  8\n",
       " 10"
      ]
     },
     "execution_count": 43,
     "metadata": {},
     "output_type": "execute_result"
    }
   ],
   "source": [
    "collect(C)"
   ]
  },
  {
   "cell_type": "code",
   "execution_count": 44,
   "metadata": {
    "collapsed": false
   },
   "outputs": [
    {
     "name": "stdout",
     "output_type": "stream",
     "text": [
      "search: collect Collections\n",
      "\n"
     ]
    },
    {
     "data": {
      "text/latex": [
       "\\begin{verbatim}\n",
       "collect(collection)\n",
       "\\end{verbatim}\n",
       "Return an array of all items in a collection. For associative collections, returns Pair\\{KeyType, ValType\\}.\n",
       "\\begin{verbatim}\n",
       "collect(element_type, collection)\n",
       "\\end{verbatim}\n",
       "Return an array of type \\texttt{Array{element_type,1}} of all items in a collection.\n"
      ],
      "text/markdown": [
       "```\n",
       "collect(collection)\n",
       "```\n",
       "\n",
       "Return an array of all items in a collection. For associative collections, returns Pair{KeyType, ValType}.\n",
       "\n",
       "```\n",
       "collect(element_type, collection)\n",
       "```\n",
       "\n",
       "Return an array of type `Array{element_type,1}` of all items in a collection.\n"
      ],
      "text/plain": [
       "```\n",
       "collect(collection)\n",
       "```\n",
       "\n",
       "Return an array of all items in a collection. For associative collections, returns Pair{KeyType, ValType}.\n",
       "\n",
       "```\n",
       "collect(element_type, collection)\n",
       "```\n",
       "\n",
       "Return an array of type `Array{element_type,1}` of all items in a collection.\n"
      ]
     },
     "execution_count": 44,
     "metadata": {},
     "output_type": "execute_result"
    }
   ],
   "source": [
    "?collect"
   ]
  },
  {
   "cell_type": "markdown",
   "metadata": {},
   "source": [
    "We could also have defined our lists in another way, by comprehensions. For example..."
   ]
  },
  {
   "cell_type": "code",
   "execution_count": 49,
   "metadata": {
    "collapsed": false
   },
   "outputs": [
    {
     "name": "stdout",
     "output_type": "stream",
     "text": [
      "Array(Int64,(5,)) [1,2,3,4,5]\n",
      "Array(Int64,(5,)) [1,2,3,4,5]\n"
     ]
    },
    {
     "data": {
      "text/plain": [
       "5-element Array{Int64,1}:\n",
       "  2\n",
       "  4\n",
       "  6\n",
       "  8\n",
       " 10"
      ]
     },
     "execution_count": 49,
     "metadata": {},
     "output_type": "execute_result"
    }
   ],
   "source": [
    "A = [i for i in 1:5]\n",
    "B = [i for i in 1:5]\n",
    "dump(A)\n",
    "dump(B)\n",
    "C = A + B"
   ]
  },
  {
   "cell_type": "markdown",
   "metadata": {},
   "source": [
    "Comprehensions can be a powerful tool for short-form expressions. For instance..."
   ]
  },
  {
   "cell_type": "code",
   "execution_count": 57,
   "metadata": {
    "collapsed": false
   },
   "outputs": [
    {
     "name": "stdout",
     "output_type": "stream",
     "text": [
      "Array(Float64,(63,)) [0.0,0.0998334,0.198669,0.29552,0.389418,0.479426,0.564642,0.644218,0.717356,0.783327  …  -0.832267,-0.772764,-0.70554,-0.631267,-0.550686,-0.464602,-0.373877,-0.279415,-0.182163,-0.0830894]\n",
      "Array(Float64,(63,)) [1.0,0.995004,0.980067,0.955336,0.921061,0.877583,0.825336,0.764842,0.696707,0.62161  …  0.554374,0.634693,0.70867,0.775566,0.834713,0.88552,0.927478,0.96017,0.983268,0.996542]\n"
     ]
    },
    {
     "data": {
      "text/plain": [
       "63-element Array{Float64,1}:\n",
       " 1.0\n",
       " 1.0\n",
       " 1.0\n",
       " 1.0\n",
       " 1.0\n",
       " 1.0\n",
       " 1.0\n",
       " 1.0\n",
       " 1.0\n",
       " 1.0\n",
       " 1.0\n",
       " 1.0\n",
       " 1.0\n",
       " ⋮  \n",
       " 1.0\n",
       " 1.0\n",
       " 1.0\n",
       " 1.0\n",
       " 1.0\n",
       " 1.0\n",
       " 1.0\n",
       " 1.0\n",
       " 1.0\n",
       " 1.0\n",
       " 1.0\n",
       " 1.0"
      ]
     },
     "execution_count": 57,
     "metadata": {},
     "output_type": "execute_result"
    }
   ],
   "source": [
    "A = [sin(i) for i in 0:0.1:2*pi]\n",
    "B = [cos(i) for i in 0:0.1:2*pi]\n",
    "dump(A)\n",
    "dump(B)\n",
    "C = A.^2 + B.^2      # Trig. Identity"
   ]
  },
  {
   "cell_type": "markdown",
   "metadata": {},
   "source": [
    "Note here, that in order to accomplish the square operation per-element, we make use of the `.` operator again. At its root, in Julia, this operator signifies a per-element operation. However, Julia will *also* broadcast that opeartion when necessary."
   ]
  },
  {
   "cell_type": "code",
   "execution_count": 58,
   "metadata": {
    "collapsed": false
   },
   "outputs": [
    {
     "name": "stdout",
     "output_type": "stream",
     "text": [
      "search: .^\n",
      "\n"
     ]
    },
    {
     "data": {
      "text/latex": [
       "\\begin{verbatim}\n",
       ".^(x, y)\n",
       "\\end{verbatim}\n",
       "Element-wise exponentiation operator.\n"
      ],
      "text/markdown": [
       "```\n",
       ".^(x, y)\n",
       "```\n",
       "\n",
       "Element-wise exponentiation operator.\n"
      ],
      "text/plain": [
       "```\n",
       ".^(x, y)\n",
       "```\n",
       "\n",
       "Element-wise exponentiation operator.\n"
      ]
     },
     "execution_count": 58,
     "metadata": {},
     "output_type": "execute_result"
    }
   ],
   "source": [
    "?.^"
   ]
  },
  {
   "cell_type": "markdown",
   "metadata": {},
   "source": []
  },
  {
   "cell_type": "code",
   "execution_count": null,
   "metadata": {
    "collapsed": true
   },
   "outputs": [],
   "source": []
  }
 ],
 "metadata": {
  "kernelspec": {
   "display_name": "Julia 0.4.1-pre",
   "language": "julia",
   "name": "julia-0.4"
  },
  "language_info": {
   "file_extension": ".jl",
   "mimetype": "application/julia",
   "name": "julia",
   "version": "0.4.1"
  }
 },
 "nbformat": 4,
 "nbformat_minor": 0
}
