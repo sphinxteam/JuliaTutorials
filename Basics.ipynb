{
 "cells": [
  {
   "cell_type": "markdown",
   "metadata": {},
   "source": [
    "# Julia Basics\n",
    "In this notebook we are going to take a look at the very basics of Julia, learning the syntax and the very basics of the language. We'll take the perspective that most everyone is coming from Matlab. From Matlab, must of the functionality is quite similar! \n",
    "\n",
    "For full documentation about all the nuances of the Julia language, check out [the Julia Manual](http://julia.readthedocs.io/en/latest/manual)."
   ]
  },
  {
   "cell_type": "markdown",
   "metadata": {},
   "source": [
    "## Running Julia Code\n",
    "The Julia REPL is much like the one which you find in Matlab. You are able to run a single command at a time and look at a common workspace. This is a great way to tackle simple debugging or to do a simple computation. However, the most common way to interact through your experiments will be by running a Julia script file of some sort, denoted like by the `*.jl` extension. Given a Julia script, lets say, `foo.jl`, we can run this command from the terminal via\n",
    "\n",
    "```bash\n",
    "bash> julia foo.jl\n",
    "```\n",
    "\n",
    "Or we can run it from the REPL via\n",
    "\n",
    "```bash\n",
    "julia> include(\"foo.jl\")\n",
    "```\n",
    "\n",
    "Note, here, the use of the function `include(...)`. This function will execute the contents of a script file within the current context of the REPL. Though, we must be careful if we are re-defining certain procedures. Depending on what our script does, sometimes running it twice in succession might result in undefined results due to redefinitions or overwritten variables.\n",
    "\n",
    "```bash\n",
    "julia> include(\"foo.jl\")\n",
    "(...some output...)\n",
    "julia> include(\"foo.jl\")\n",
    "(...perhaps and error or unepxected output...)\n",
    "```\n",
    "\n",
    "Another way to interface with Julia is as we are doing here, through a Jupyter notebook.\n",
    "\n",
    "-----"
   ]
  },
  {
   "cell_type": "markdown",
   "metadata": {},
   "source": [
    "## Getting Help: Documentation\n",
    "Another first thing to cover is how to find the information you need about specific functions. Most of the packages in Julia are well-documented. Of course, in fast-moving, new packages, there is often a lot of work to be done. However, all the core functionality has some good documentation. Lets say we want to know something about the fast Fourier transform (FFT). First, lets take a look at the documentaiton for the `apropos(...)` function. Note that if we want to know about a function, we just need to use the `?` prefix in the REPL."
   ]
  },
  {
   "cell_type": "code",
   "execution_count": 4,
   "metadata": {
    "collapsed": false
   },
   "outputs": [
    {
     "name": "stdout",
     "output_type": "stream",
     "text": [
      "search: apropos\n",
      "\n"
     ]
    },
    {
     "data": {
      "text/latex": [
       "\\begin{verbatim}\n",
       "apropos(string)\n",
       "\\end{verbatim}\n",
       "Search through all documentation for a string, ignoring case.\n"
      ],
      "text/markdown": [
       "```\n",
       "apropos(string)\n",
       "```\n",
       "\n",
       "Search through all documentation for a string, ignoring case.\n"
      ],
      "text/plain": [
       "```\n",
       "apropos(string)\n",
       "```\n",
       "\n",
       "Search through all documentation for a string, ignoring case.\n"
      ]
     },
     "execution_count": 4,
     "metadata": {},
     "output_type": "execute_result"
    }
   ],
   "source": [
    "?apropos   "
   ]
  },
  {
   "cell_type": "markdown",
   "metadata": {},
   "source": [
    "We can see that `apropos(...)` can be a very useful function if we are looking for a function that covers a certain topic, but we don't know exactly what function we're looking for. So, lets try to see if there is something using the Fourier transform."
   ]
  },
  {
   "cell_type": "code",
   "execution_count": 7,
   "metadata": {
    "collapsed": false
   },
   "outputs": [
    {
     "name": "stdout",
     "output_type": "stream",
     "text": [
      "dct\n",
      "idct\n",
      "fft\n",
      "primes\n",
      "isprime\n",
      "airybiprime\n",
      "factor\n",
      "airyaiprime\n",
      "airyprime\n",
      "primesmask\n"
     ]
    }
   ],
   "source": [
    "apropos(\"prime\")   # Note that strings in Julia are represented with double quotes! \"...\""
   ]
  },
  {
   "cell_type": "markdown",
   "metadata": {},
   "source": [
    "So, we see that there is one function which matches our query, lets check the documentation!"
   ]
  },
  {
   "cell_type": "code",
   "execution_count": 8,
   "metadata": {
    "collapsed": false
   },
   "outputs": [
    {
     "name": "stdout",
     "output_type": "stream",
     "text": [
      "search: factor factorize factorial Factorization\n",
      "\n"
     ]
    },
    {
     "data": {
      "text/latex": [
       "\\begin{verbatim}\n",
       "factor(n) -> Dict\n",
       "\\end{verbatim}\n",
       "Compute the prime factorization of an integer \\texttt{n}. Returns a dictionary. The keys of the dictionary correspond to the factors, and hence are of the same type as \\texttt{n}. The value associated with each key indicates the number of times the factor appears in the factorization.\n",
       "\\begin{verbatim}\n",
       "julia> factor(100) # == 2*2*5*5\n",
       "Dict{Int64,Int64} with 2 entries:\n",
       "  2 => 2\n",
       "  5 => 2\n",
       "\\end{verbatim}\n"
      ],
      "text/markdown": [
       "```\n",
       "factor(n) -> Dict\n",
       "```\n",
       "\n",
       "Compute the prime factorization of an integer `n`. Returns a dictionary. The keys of the dictionary correspond to the factors, and hence are of the same type as `n`. The value associated with each key indicates the number of times the factor appears in the factorization.\n",
       "\n",
       "```jldoctest\n",
       "julia> factor(100) # == 2*2*5*5\n",
       "Dict{Int64,Int64} with 2 entries:\n",
       "  2 => 2\n",
       "  5 => 2\n",
       "```\n"
      ],
      "text/plain": [
       "```\n",
       "factor(n) -> Dict\n",
       "```\n",
       "\n",
       "Compute the prime factorization of an integer `n`. Returns a dictionary. The keys of the dictionary correspond to the factors, and hence are of the same type as `n`. The value associated with each key indicates the number of times the factor appears in the factorization.\n",
       "\n",
       "```jldoctest\n",
       "julia> factor(100) # == 2*2*5*5\n",
       "Dict{Int64,Int64} with 2 entries:\n",
       "  2 => 2\n",
       "  5 => 2\n",
       "```\n"
      ]
     },
     "execution_count": 8,
     "metadata": {},
     "output_type": "execute_result"
    }
   ],
   "source": [
    "?factor"
   ]
  },
  {
   "cell_type": "markdown",
   "metadata": {},
   "source": [
    "We can see that the doc-strings associated with `fft(...)` make use of both Markdown and TeX strings for a rich set of documentation!\n",
    "\n",
    "------"
   ]
  },
  {
   "cell_type": "markdown",
   "metadata": {},
   "source": [
    "## Installing Packages\n",
    "Julia comes with a lot of features out of the box, but what makes it great is the huge community of programmers and researchers that are constantly adding packages to the Julia environment. Most are awesome, some are a bit mediocre and missing documentation. But often the first step when approaching any problem is to ask \"has anyone already implemented this?\" The answer is probably \"yes\". So make sure to exercise a bit of Google-fu before emparking.\n",
    "\n",
    "Lets say that you really want to sample some random variables from a particular distribution, say, a Laplace distribution. You could charge ahead and re-write this procedure yourself, and possibly introduce a bug or two, or you could use the nice work done in [Distributions.jl](https://github.com/JuliaStats/Distributions.jl). \n",
    "\n",
    "So, lets say that you've decided that you want to use this package...what do you do? Well, you need to add it to your Julia environment. How can you do this? Most well-maintained Julia packages are listed on a public tracker, so to add a package we only need to make a very simple call from Julia. Specifically..."
   ]
  },
  {
   "cell_type": "code",
   "execution_count": 9,
   "metadata": {
    "collapsed": false
   },
   "outputs": [
    {
     "name": "stderr",
     "output_type": "stream",
     "text": [
      "INFO: Nothing to be done\n",
      "INFO: METADATA is out-of-date — you may not have the latest version of Distributions\n",
      "INFO: Use `Pkg.update()` to get the latest versions of your packages\n"
     ]
    }
   ],
   "source": [
    "Pkg.add(\"Distributions\")\n",
    "using Distributions"
   ]
  },
  {
   "cell_type": "markdown",
   "metadata": {},
   "source": [
    "The `Pkg.add()` command only needs to be run once, this function will download the package code to your machine. Subsequently, when you want to make use of the Distributions package, you need to call `using Distibutions`. This is the same for any external package you want to use with Julia.\n",
    "\n",
    "Many packages also ship with a test-framework, this is best-practice. We can ensure that a package is working properly on our system by running its tests, if we are so inclined."
   ]
  },
  {
   "cell_type": "code",
   "execution_count": 10,
   "metadata": {
    "collapsed": false
   },
   "outputs": [
    {
     "name": "stderr",
     "output_type": "stream",
     "text": [
      "INFO: Computing test dependencies for Distributions...\n",
      "INFO: Installing ForwardDiff v0.1.8\n",
      "INFO: Testing Distributions\n"
     ]
    },
    {
     "name": "stdout",
     "output_type": "stream",
     "text": [
      "Running tests:\n",
      "\tFrom worker 7:\t    -----\n",
      "\tFrom worker 4:\t    testing Distributions.CategoricalDirectSampler\n",
      "\tFrom worker 4:\t    testing Distributions.AliasTable\n",
      "\tFrom worker 6:\t    [Discrete]\n",
      "\tFrom worker 6:\t    ------------\n",
      "\tFrom worker 4:\t    testing Distributions.BinomialGeomSampler\n",
      "\tFrom worker 5:\t    testing Distributions.Categorical(K=2, p=[0.5,0.5])\n",
      "\tFrom worker 4:\t    testing Distributions.BinomialTPESampler\n",
      "\tFrom worker 3:\t   testing PoissonBinomial p=0.8, n=6\n",
      "\tFrom worker 3:\t   testing PoissonBinomial p=0.5, n=10\n",
      "\tFrom worker 3:\t   testing PoissonBinomial p=0.04, n=20\n",
      "\tFrom worker 6:\t    testing Bernoulli()\n",
      "\tFrom worker 3:\t   testing PoissonBinomial [10 × 0.1, 10 × 0.5, 10 × 0.9]\n",
      "\tFrom worker 3:\t   testing PoissonBinomial [1 × 0.99, 10 × 0.1, 100 × 0.05]\n",
      "\tFrom worker 3:\t   testing PoissonBinomial [5 × 0.01, 1 × 0.99, 3 × 0.999]\n",
      "\tFrom worker 3:\t   testing PoissonBinomial [10 × 0.0, 7 × 0.9, 10 × 0.5]\n",
      "\tFrom worker 5:\t    testing Distributions.Categorical(K=4, p=[0.1,0.3,0.2,0.4])\n",
      "\tFrom worker 5:\t    testing Distributions.Categorical(K=3, p=[0.15,0.25,0.6])\n",
      "\tFrom worker 4:\t    testing Distributions.BinomialPolySampler\n",
      "\tFrom worker 9:\t    comparing results from MvLogNormal with univariate LogNormal\n",
      "\tFrom worker 6:\t    testing Bernoulli(0.25)\n",
      "\tFrom worker 4:\t    testing Distributions.BinomialAliasSampler\n",
      "\tFrom worker 6:\t    testing Bernoulli(0.75)\n",
      "\tFrom worker 6:\t    testing BetaBinomial(2, 0.2, 0.25)\n",
      "\tFrom worker 7:\t    testing Distributions.Biweight(μ=0.0, σ=1.0)\n",
      "\tFrom worker 4:\t    testing Distributions.PoissonCountSampler\n",
      "\tFrom worker 7:\t    testing Distributions.Biweight(μ=1.0, σ=3.0)\n",
      "\tFrom worker 7:\t    testing Distributions.Epanechnikov(μ=0.0, σ=1.0)\n",
      "\tFrom worker 7:\t    testing Distributions.Epanechnikov(μ=1.0, σ=3.0)\n",
      "\tFrom worker 7:\t    testing Distributions.Frechet(α=0.5, θ=1.0)\n",
      "\tFrom worker 8:\t    testing UnivariateMixture\n",
      "\tFrom worker 7:\t    testing Distributions.Frechet(α=3.0, θ=1.0)\n",
      "\tFrom worker 4:\t    testing Distributions.PoissonADSampler\n",
      "\tFrom worker 7:\t    testing Distributions.Frechet(α=20.0, θ=1.0)\n",
      "\tFrom worker 7:\t    testing Distributions.Frechet(α=120.0, θ=1.0)\n",
      "\tFrom worker 7:\t    testing Distributions.Frechet(α=0.5, θ=2.0)\n",
      "\tFrom worker 7:\t    testing Distributions.Frechet(α=3.0, θ=2.0)\n",
      "\tFrom worker 7:\t    testing Distributions.GeneralizedPareto(ξ=1.0, σ=1.0, μ=0.0)\n",
      "\tFrom worker 4:\t    testing Distributions.PoissBinAliasSampler\n",
      "\tFrom worker 7:\t    testing Distributions.GeneralizedPareto(ξ=1.0, σ=1.0, μ=0.0)\n",
      "\tFrom worker 7:\t    testing Distributions.GeneralizedPareto(ξ=1.0, σ=1.0, μ=1.0)\n",
      "\tFrom worker 7:\t    testing Distributions.GeneralizedPareto(ξ=0.1, σ=2.0, μ=0.0)\n",
      "\tFrom worker 7:\t    testing Distributions.GeneralizedPareto(ξ=0.0, σ=0.5, μ=0.0)\n",
      "\tFrom worker 7:\t    testing Distributions.GeneralizedPareto(ξ=-1.5, σ=0.5, μ=2.0)\n",
      "\tFrom worker 7:\t    testing Distributions.InverseGaussian(μ=1.0, λ=1.0)\n",
      "\tFrom worker 9:\t    testing Distributions.MvLogNormal with normal distribution FullNormal\n",
      "\tFrom worker 2:\t    [Discrete]\n",
      "\tFrom worker 2:\t    ------------\n",
      "\tFrom worker 7:\t    testing Distributions.InverseGaussian(μ=2.0, λ=7.0)\n",
      "\tFrom worker 7:\t    testing Distributions.Levy(μ=0.0, σ=1.0)\n",
      "\tFrom worker 8:\t    testing MultivariateMixture\n",
      "\tFrom worker 2:\t    testing Truncated(Bernoulli(),3,5)\n",
      "\tFrom worker 7:\t    testing Distributions.Levy(μ=2.0, σ=8.0)\n",
      "\tFrom worker 7:\t    testing Distributions.Levy(μ=3.0, σ=3.0)\n",
      "\tFrom worker 2:\t    testing Truncated(Bernoulli(0.25),3,5)\n",
      "\tFrom worker 2:\t    testing Truncated(Bernoulli(0.75),3,5)\n",
      "\tFrom worker 2:\t    testing Truncated(BetaBinomial(2, 0.2, 0.25),3,5)\n",
      "\tFrom worker 7:\t    testing Distributions.LogNormal(μ=0.0, σ=1.0)\n",
      "\tFrom worker 2:\t    testing Truncated(Binomial(),3,5)\n",
      "\tFrom worker 2:\t    testing Truncated(Binomial(3),3,5)\n",
      "\tFrom worker 2:\t    testing Truncated(Binomial(5, 0.4),3,5)\n",
      "\tFrom worker 2:\t    testing Truncated(Binomial(6, 0.8),3,5)\n",
      "\tFrom worker 2:\t    testing Truncated(Binomial(100, 0.1),3,5)\n",
      "\tFrom worker 2:\t    testing Truncated(Binomial(100, 0.9),3,5)\n",
      "\tFrom worker 2:\t    testing Truncated(DiscreteUniform(6),3,5)\n",
      "\tFrom worker 4:\t    testing Distributions.ExponentialSampler\n",
      "\tFrom worker 2:\t    testing Truncated(DiscreteUniform(0, 4),3,5)\n",
      "\tFrom worker 2:\t    testing Truncated(DiscreteUniform(2, 8),3,5)\n",
      "\tFrom worker 2:\t    testing Truncated(Geometric(),3,5)\n",
      "\tFrom worker 7:\t    testing Distributions.LogNormal(μ=0.0, σ=2.0)\n",
      "\tFrom worker 7:\t    testing Distributions.LogNormal(μ=3.0, σ=0.5)\n",
      "\tFrom worker 7:\t    testing Distributions.LogNormal(μ=3.0, σ=1.0)\n",
      "\tFrom worker 7:\t    testing Distributions.LogNormal(μ=3.0, σ=2.0)\n",
      "\tFrom worker 2:\t    testing Truncated(Geometric(0.02),3,5)\n",
      "\tFrom worker 2:\t    testing Truncated(Geometric(0.1),3,5)\n",
      "\tFrom worker 2:\t    testing Truncated(Geometric(0.5),3,5)\n",
      "\tFrom worker 2:\t    testing Truncated(Geometric(0.9),3,5)\n",
      "\tFrom worker 2:\t    testing Truncated(Hypergeometric(2, 2, 2),3,5)\n",
      "\tFrom worker 6:\t    testing Binomial()\n",
      "\tFrom worker 7:\t    testing Distributions.NoncentralBeta(α=2.0, β=2.0, λ=0.0)\n",
      "\tFrom worker 2:\t    testing Truncated(Hypergeometric(3, 2, 2),3,5)\n",
      "\tFrom worker 2:\t    testing Truncated(Hypergeometric(3, 2, 0),3,5)\n",
      "\tFrom worker 2:\t    testing Truncated(Hypergeometric(3, 2, 5),3,5)\n",
      "\tFrom worker 2:\t    testing Truncated(Hypergeometric(4, 5, 6),3,5)\n",
      "\tFrom worker 2:\t    testing Truncated(Hypergeometric(60, 80, 100),3,5)\n",
      "\tFrom worker 2:\t    testing Truncated(NegativeBinomial(),3,5)\n",
      "\tFrom worker 2:\t    testing Truncated(NegativeBinomial(6),3,5)\n",
      "\tFrom worker 2:\t    testing Truncated(NegativeBinomial(1, 0.5),3,5)\n",
      "\tFrom worker 2:\t    testing Truncated(NegativeBinomial(5, 0.6),3,5)\n",
      "\tFrom worker 2:\t    testing Truncated(NegativeBinomial(0.5, 0.5),3,5)\n",
      "\tFrom worker 2:\t    testing Truncated(Poisson(),3,5)\n",
      "\tFrom worker 2:\t    testing Truncated(Poisson(0.0),3,5)\n",
      "\tFrom worker 2:\t    testing Truncated(Poisson(0.5),3,5)\n",
      "\tFrom worker 2:\t    testing Truncated(Poisson(2.0),3,5)\n",
      "\tFrom worker 2:\t    testing Truncated(Poisson(10.0),3,5)\n",
      "\tFrom worker 2:\t    testing Truncated(Poisson(80.0),3,5)\n",
      "\tFrom worker 2:\t\n",
      "\tFrom worker 2:\t    [Continuous]\n",
      "\tFrom worker 2:\t    ------------\n",
      "\tFrom worker 2:\t    testing Truncated(Arcsine(),3,5)\n",
      "\tFrom worker 2:\t    testing Truncated(Arcsine(2.0),3,5)\n",
      "\tFrom worker 2:\t    testing Truncated(Arcsine(1.0, 2.5),3,5)\n",
      "\tFrom worker 2:\t    testing Truncated(Beta(2.0, 2.0),3,5)\n",
      "\tFrom worker 4:\t    testing Distributions.GammaGDSampler\n",
      "\tFrom worker 2:\t    testing Truncated(Beta(3.0, 4.0),3,5)\n",
      "\tFrom worker 2:\t    testing Truncated(Beta(17.0, 13.0),3,5)\n",
      "\tFrom worker 2:\t    testing Truncated(BetaPrime(3.0, 3.0),3,5)\n",
      "\tFrom worker 6:\t    testing Binomial(3)\n",
      "\tFrom worker 6:\t    testing Binomial(5, 0.4)\n",
      "\tFrom worker 2:\t    testing Truncated(BetaPrime(3.0, 5.0),3,5)\n",
      "\tFrom worker 2:\t    testing Truncated(BetaPrime(5.0, 3.0),3,5)\n",
      "\tFrom worker 2:\t    testing Truncated(Cauchy(),3,5)\n",
      "\tFrom worker 7:\t    testing Distributions.NoncentralBeta(α=2.0, β=6.0, λ=5.0)\n",
      "\tFrom worker 6:\t    testing Binomial(6, 0.8)\n",
      "\tFrom worker 6:\t    testing Binomial(100, 0.1)\n",
      "\tFrom worker 2:\t    testing Truncated(Cauchy(2.0),3,5)\n",
      "\tFrom worker 2:\t    testing Truncated(Cauchy(0.0, 1.0),3,5)\n",
      "\tFrom worker 2:\t    testing Truncated(Cauchy(10.0, 1.0),3,5)\n",
      "\tFrom worker 2:\t    testing Truncated(Cauchy(2.0, 10.0),3,5)\n",
      "\tFrom worker 2:\t    testing Truncated(Chi(1),3,5)\n",
      "\tFrom worker 6:\t    testing Binomial(100, 0.9)\n",
      "\tFrom worker 2:\t    testing Truncated(Chi(2),3,5)\n",
      "\tFrom worker 2:\t    testing Truncated(Chi(3),3,5)\n",
      "\tFrom worker 2:\t    testing Truncated(Chi(12),3,5)\n",
      "\tFrom worker 2:\t    testing Truncated(Chisq(1),3,5)\n",
      "\tFrom worker 6:\t    testing DiscreteUniform(6)\n",
      "\tFrom worker 2:\t    testing Truncated(Chisq(8),3,5)\n",
      "\tFrom worker 2:\t    testing Truncated(Chisq(20),3,5)\n",
      "\tFrom worker 2:\t    testing Truncated(Cosine(),3,5)\n",
      "\tFrom worker 3:\t    testing IsoNormal\n",
      "\tFrom worker 7:\t    testing Distributions.NoncentralChisq(ν=2.0, λ=2.0)\n",
      "\tFrom worker 2:\t    testing Truncated(Cosine(1.5),3,5)\n",
      "\tFrom worker 2:\t    testing Truncated(Cosine(2.0, 2.8),3,5)\n",
      "\tFrom worker 2:\t    testing Truncated(Erlang(1, 1.0),3,5)\n",
      "\tFrom worker 2:\t    testing Truncated(Erlang(3, 1.0),3,5)\n",
      "\tFrom worker 2:\t    testing Truncated(Erlang(5, 2.0),3,5)\n",
      "\tFrom worker 2:\t    testing Truncated(Exponential(),3,5)\n",
      "\tFrom worker 2:\t    testing Truncated(Exponential(2.0),3,5)\n",
      "\tFrom worker 2:\t    testing Truncated(Exponential(6.5),3,5)\n",
      "\tFrom worker 2:\t    testing Truncated(FDist(6.0, 8.0),3,5)\n",
      "\tFrom worker 2:\t    testing Truncated(FDist(8.0, 6.0),3,5)\n",
      "\tFrom worker 2:\t    testing Truncated(Gamma(),3,5)\n",
      "\tFrom worker 6:\t    testing DiscreteUniform(0, 4)\n",
      "\tFrom worker 6:\t    testing DiscreteUniform(2, 8)\n",
      "\tFrom worker 6:\t    testing Geometric()\n",
      "\tFrom worker 2:\t    testing Truncated(Gamma(2.0),3,5)\n",
      "\tFrom worker 2:\t    testing Truncated(Gamma(1.0, 1.0),3,5)\n",
      "\tFrom worker 2:\t    testing Truncated(Gamma(3.0, 1.0),3,5)\n",
      "\tFrom worker 2:\t    testing Truncated(Gamma(3.0, 2.0),3,5)\n",
      "\tFrom worker 2:\t    testing Truncated(GeneralizedPareto(),3,5)\n",
      "\tFrom worker 2:\t    testing Truncated(GeneralizedPareto(1.0, 1.0),3,5)\n",
      "\tFrom worker 2:\t    testing Truncated(GeneralizedPareto(1.0, 1.0, 1.0),3,5)\n",
      "\tFrom worker 2:\t    testing Truncated(GeneralizedPareto(0.1, 2.0, 0.0),3,5)\n",
      "\tFrom worker 2:\t    testing Truncated(GeneralizedPareto(-1.5, 0.5, 2.0),3,5)\n",
      "\tFrom worker 2:\t    testing Truncated(Gumbel(),3,5)\n",
      "\tFrom worker 2:\t    testing Truncated(Gumbel(3.0),3,5)\n",
      "\tFrom worker 2:\t    testing Truncated(Gumbel(3.0, 5.0),3,5)\n",
      "\tFrom worker 2:\t    testing Truncated(Gumbel(5.0, 3.0),3,5)\n",
      "\tFrom worker 2:\t    testing Truncated(InverseGamma(),3,5)\n",
      "\tFrom worker 4:\t    testing Distributions.GammaMTSampler\n",
      "\tFrom worker 2:\t    testing Truncated(InverseGamma(2.0),3,5)\n",
      "\tFrom worker 2:\t    testing Truncated(InverseGamma(1.0, 1.0),3,5)\n",
      "\tFrom worker 2:\t    testing Truncated(InverseGamma(1.0, 2.0),3,5)\n",
      "\tFrom worker 2:\t    testing Truncated(InverseGamma(2.0, 1.0),3,5)\n",
      "\tFrom worker 2:\t    testing Truncated(InverseGamma(2.0, 3.0),3,5)\n",
      "\tFrom worker 2:\t    testing Truncated(InverseGaussian(),3,5)\n",
      "\tFrom worker 2:\t    testing Truncated(InverseGaussian(0.8),3,5)\n",
      "\tFrom worker 2:\t    testing Truncated(InverseGaussian(2.0),3,5)\n",
      "\tFrom worker 2:\t    testing Truncated(Laplace(),3,5)\n",
      "\tFrom worker 2:\t    testing Truncated(Laplace(2.0),3,5)\n",
      "\tFrom worker 2:\t    testing Truncated(Laplace(0.0, 1.0),3,5)\n",
      "\tFrom worker 2:\t    testing Truncated(Laplace(5.0, 1.0),3,5)\n",
      "\tFrom worker 2:\t    testing Truncated(Laplace(5.0, 1.5),3,5)\n",
      "\tFrom worker 2:\t    testing Truncated(Logistic(),3,5)\n",
      "\tFrom worker 6:\t    testing Geometric(0.02)\n",
      "\tFrom worker 2:\t    testing Truncated(Logistic(2.0),3,5)\n",
      "\tFrom worker 2:\t    testing Truncated(Logistic(0.0, 1.0),3,5)\n",
      "\tFrom worker 2:\t    testing Truncated(Logistic(5.0, 1.0),3,5)\n",
      "\tFrom worker 2:\t    testing Truncated(Logistic(5.0, 1.5),3,5)\n",
      "\tFrom worker 2:\t    testing Truncated(LogNormal(),3,5)\n",
      "\tFrom worker 6:\t    testing Geometric(0.1)\n",
      "\tFrom worker 6:\t    testing Geometric(0.5)\n",
      "\tFrom worker 2:\t    testing Truncated(LogNormal(0.0),3,5)\n",
      "\tFrom worker 2:\t    testing Truncated(LogNormal(0.0, 2.0),3,5)\n",
      "\tFrom worker 6:\t    testing Geometric(0.9)\n",
      "\tFrom worker 2:\t    testing Truncated(Normal(0.0, 1.0),3,5)\n",
      "\tFrom worker 6:\t    testing Hypergeometric(2, 2, 2)\n",
      "\tFrom worker 2:\t    testing Truncated(Normal(-3.0, 2.0),3,5)\n",
      "\tFrom worker 2:\t    testing Truncated(Normal(1.0, 10.0),3,5)\n",
      "\tFrom worker 2:\t    testing Truncated(NormalCanon(0.0, 1.0),3,5)\n",
      "\tFrom worker 2:\t    testing Truncated(NormalCanon(-1.0, 2.5),3,5)\n",
      "\tFrom worker 2:\t    testing Truncated(NormalCanon(2.0, 0.8),3,5)\n",
      "\tFrom worker 2:\t    testing Truncated(Pareto(),3,5)\n",
      "\tFrom worker 2:\t    testing Truncated(Pareto(2.0),3,5)\n",
      "\tFrom worker 2:\t    testing Truncated(Pareto(2.0, 1.5),3,5)\n",
      "\tFrom worker 2:\t    testing Truncated(Pareto(3.0, 2.0),3,5)\n",
      "\tFrom worker 2:\t    testing Truncated(Rayleigh(),3,5)\n",
      "\tFrom worker 7:\t    testing Distributions.NoncentralChisq(ν=2.0, λ=5.0)\n",
      "\tFrom worker 2:\t    testing Truncated(Rayleigh(3.0),3,5)\n",
      "\tFrom worker 2:\t    testing Truncated(Rayleigh(8.0),3,5)\n",
      "\tFrom worker 2:\t    testing Truncated(SymTriangularDist(),3,5)\n",
      "\tFrom worker 2:\t    testing Truncated(SymTriangularDist(3.0),3,5)\n",
      "\tFrom worker 2:\t    testing Truncated(SymTriangularDist(3.0, 0.5),3,5)\n",
      "\tFrom worker 2:\t    testing Truncated(SymTriangularDist(3.0, 2.0),3,5)\n",
      "\tFrom worker 2:\t    testing Truncated(SymTriangularDist(10.0, 8.0),3,5)\n",
      "\tFrom worker 2:\t    testing Truncated(TDist(1.2),3,5)\n",
      "\tFrom worker 2:\t    testing Truncated(TDist(5.0),3,5)\n",
      "\tFrom worker 2:\t    testing Truncated(TDist(28.0),3,5)\n",
      "\tFrom worker 2:\t    testing Truncated(TriangularDist(0, 5),3,5)\n",
      "\tFrom worker 4:\t    testing Distributions.GammaGSSampler\n",
      "\tFrom worker 3:\t    testing ZeroMeanIsoNormal\n",
      "\tFrom worker 6:\t    testing Hypergeometric(3, 2, 2)\n",
      "\tFrom worker 6:\t    testing Hypergeometric(3, 2, 0)\n",
      "\tFrom worker 2:\t    testing Truncated(TriangularDist(-7, 2),3,5)\n",
      "\tFrom worker 2:\t    testing Truncated(TriangularDist(-4, 14, 3),3,5)\n",
      "\tFrom worker 2:\t    testing Truncated(TriangularDist(2, 2000, 500),3,5)\n",
      "\tFrom worker 2:\t    testing Truncated(TriangularDist(1, 3, 2),3,5)\n",
      "\tFrom worker 2:\t    testing Truncated(TruncatedNormal(0, 1, -2, 2),3,5)\n",
      "\tFrom worker 6:\t    testing Hypergeometric(3, 2, 5)\n",
      "\tFrom worker 6:\t    testing Hypergeometric(4, 5, 6)\n",
      "\tFrom worker 2:\t    testing Truncated(TruncatedNormal(3, 10, 7, 8),3,5)\n",
      "\tFrom worker 2:\t    testing Truncated(TruncatedNormal(27, 3, 0, Inf),3,5)\n",
      "\tFrom worker 2:\t    testing Truncated(TruncatedNormal(-5, 1, -Inf, -10),3,5)\n",
      "\tFrom worker 2:\t    testing Truncated(TruncatedNormal(1.8, 1.2, -Inf, 0),3,5)\n",
      "\tFrom worker 2:\t    testing Truncated(Uniform(0.0, 1.0),3,5)\n",
      "\tFrom worker 6:\t    testing Hypergeometric(60, 80, 100)\n",
      "\tFrom worker 2:\t    testing Truncated(Uniform(3.0, 17.0),3,5)\n",
      "\tFrom worker 2:\t    testing Truncated(Uniform(3.0, 3.1),3,5)\n",
      "\tFrom worker 2:\t    testing Truncated(Weibull(),3,5)\n",
      "\tFrom worker 6:\t    testing NegativeBinomial()\n",
      "\tFrom worker 2:\t    testing Truncated(Weibull(0.5),3,5)\n",
      "\tFrom worker 2:\t    testing Truncated(Weibull(5.0),3,5)\n",
      "\tFrom worker 2:\t    testing Truncated(Weibull(20.0, 1.0),3,5)\n",
      "\tFrom worker 2:\t    testing Truncated(Weibull(1.0, 2.0),3,5)\n",
      "\tFrom worker 2:\t    testing Truncated(Weibull(5.0, 2.0),3,5)\n",
      "\tFrom worker 2:\t\n",
      "\tFrom worker 4:\t    testing Distributions.GammaIPSampler{S<:Distributions.Sampleable{Distributions.Univariate,Distributions.Continuous}}\n",
      "\tFrom worker 3:\t    testing DiagNormal\n",
      "\tFrom worker 6:\t    testing NegativeBinomial(6)\n",
      "\tFrom worker 6:\t    testing NegativeBinomial(1, 0.5)\n",
      "\tFrom worker 6:\t    testing NegativeBinomial(5, 0.6)\n",
      "\tFrom worker 6:\t    testing NegativeBinomial(0.5, 0.5)\n",
      "\tFrom worker 6:\t    testing Poisson()\n",
      "\tFrom worker 7:\t    testing Distributions.NoncentralF(ν1=2.0, ν2=2.0, λ=2.0)\n",
      "\tFrom worker 3:\t    testing ZeroMeanDiagNormal\n",
      "\tFrom worker 6:\t    testing Poisson(0.0)\n",
      "\tFrom worker 6:\t    testing Poisson(0.5)\n",
      "\tFrom worker 6:\t    testing Poisson(2.0)\n",
      "\tFrom worker 6:\t    testing Poisson(10.0)\n",
      "\tFrom worker 6:\t    testing Poisson(80.0)\n",
      "\tFrom worker 7:\t    testing Distributions.NoncentralF(ν1=8.0, ν2=10.0, λ=5.0)\n",
      "\tFrom worker 6:\t\n",
      "\tFrom worker 6:\t    [Continuous]\n",
      "\tFrom worker 6:\t    ------------\n",
      "\tFrom worker 6:\t    testing Arcsine()\n",
      "\tFrom worker 3:\t    testing FullNormal\n",
      "\tFrom worker 7:\t    testing Distributions.NoncentralT(ν=2.0, λ=2.0)\n",
      "\tFrom worker 9:\t    testing Distributions.MvLogNormal with normal distribution ZeroMeanDiagNormal\n",
      "\tFrom worker 6:\t    testing Arcsine(2.0)\n",
      "\tFrom worker 6:\t    testing Arcsine(1.0, 2.5)\n",
      "\tFrom worker 3:\t    testing ZeroMeanFullNormal\n",
      "\tFrom worker 6:\t    testing Beta(2.0, 2.0)\n",
      "\tFrom worker 7:\t    testing Distributions.NoncentralT(ν=10.0, λ=2.0)\n",
      "\tFrom worker 7:\t    testing Distributions.Triweight(μ=0.0, σ=1.0)\n",
      "\tFrom worker 6:\t    testing Beta(3.0, 4.0)\n",
      "\tFrom worker 3:\t    testing IsoNormalCanon\n",
      "\tFrom worker 6:\t    testing Beta(17.0, 13.0)\n",
      "\tFrom worker 7:\t    testing Distributions.Triweight(μ=1.0, σ=3.0)\n",
      "\tFrom worker 6:\t    testing BetaPrime(3.0, 3.0)\n",
      "\tFrom worker 3:\t    testing ZeroMeanIsoNormalCanon\n",
      "\tFrom worker 6:\t    testing BetaPrime(3.0, 5.0)\n",
      "\tFrom worker 6:\t    testing BetaPrime(5.0, 3.0)\n",
      "\tFrom worker 9:\t    testing Distributions.MvLogNormal with normal distribution IsoNormal\n",
      "\tFrom worker 3:\t    testing DiagNormalCanon\n",
      "\tFrom worker 6:\t    testing Cauchy()\n",
      "\tFrom worker 3:\t    testing ZeroMeanDiagormalCanon\n",
      "\tFrom worker 6:\t    testing Cauchy(2.0)\n",
      "\tFrom worker 6:\t    testing Cauchy(0.0, 1.0)\n",
      "\tFrom worker 6:\t    testing Cauchy(10.0, 1.0)\n",
      "\tFrom worker 6:\t    testing Cauchy(2.0, 10.0)\n",
      "\tFrom worker 6:\t    testing Chi(1)\n",
      "\tFrom worker 3:\t    testing FullNormalCanon\n",
      "\tFrom worker 6:\t    testing Chi(2)\n",
      "\tFrom worker 3:\t    testing ZeroMeanFullNormalCanon\n",
      "\tFrom worker 6:\t    testing Chi(3)\n",
      "\tFrom worker 6:\t    testing Chi(12)\n",
      "\tFrom worker 6:\t    testing Chisq(1)\n",
      "\tFrom worker 3:\t    testing fit_mle\n",
      "\tFrom worker 6:\t    testing Chisq(8)\n",
      "\tFrom worker 6:\t    testing Chisq(20)\n",
      "\tFrom worker 9:\t    testing Distributions.MvLogNormal with normal distribution ZeroMeanIsoNormal\n",
      "\tFrom worker 6:\t    testing Cosine()\n",
      "\tFrom worker 6:\t    testing Cosine(1.5)\n",
      "\tFrom worker 6:\t    testing Cosine(2.0, 2.8)\n",
      "\tFrom worker 6:\t    testing Erlang(1, 1.0)\n",
      "\tFrom worker 6:\t    testing Erlang(3, 1.0)\n",
      "\tFrom worker 6:\t    testing Erlang(5, 2.0)\n",
      "\tFrom worker 6:\t    testing Exponential()\n",
      "\tFrom worker 9:\t    testing Distributions.MvLogNormal with normal distribution DiagNormal\n",
      "\tFrom worker 6:\t    testing Exponential(2.0)\n",
      "\tFrom worker 6:\t    testing Exponential(6.5)\n",
      "\tFrom worker 6:\t    testing FDist(6.0, 8.0)\n",
      "\tFrom worker 6:\t    testing FDist(8.0, 6.0)\n",
      "\tFrom worker 6:\t    testing Gamma()\n",
      "\tFrom worker 6:\t    testing Gamma(2.0)\n",
      "\tFrom worker 6:\t    testing Gamma(1.0, 1.0)\n",
      "\tFrom worker 6:\t    testing Gamma(3.0, 1.0)\n",
      "\tFrom worker 6:\t    testing Gamma(3.0, 2.0)\n",
      "\tFrom worker 6:\t    testing GeneralizedPareto()\n",
      "\tFrom worker 9:\t    testing Distributions.MvLogNormal with normal distribution ZeroMeanDiagNormal\n",
      "\tFrom worker 6:\t    testing GeneralizedPareto(1.0, 1.0)\n",
      "\tFrom worker 6:\t    testing GeneralizedPareto(1.0, 1.0, 1.0)\n",
      "\tFrom worker 6:\t    testing GeneralizedPareto(0.1, 2.0, 0.0)\n",
      "\tFrom worker 6:\t    testing GeneralizedPareto(-1.5, 0.5, 2.0)\n",
      "\tFrom worker 6:\t    testing Gumbel()\n",
      "\tFrom worker 6:\t    testing Gumbel(3.0)\n",
      "\tFrom worker 6:\t    testing Gumbel(3.0, 5.0)\n",
      "\tFrom worker 6:\t    testing Gumbel(5.0, 3.0)\n",
      "\tFrom worker 6:\t    testing InverseGamma()\n",
      "\tFrom worker 9:\t    testing Distributions.MvLogNormal with normal distribution FullNormal\n",
      "\tFrom worker 6:\t    testing InverseGamma(2.0)\n",
      "\tFrom worker 6:\t    testing InverseGamma(1.0, 1.0)\n",
      "\tFrom worker 6:\t    testing InverseGamma(1.0, 2.0)\n",
      "\tFrom worker 6:\t    testing InverseGamma(2.0, 1.0)\n",
      "\tFrom worker 6:\t    testing InverseGamma(2.0, 3.0)\n",
      "\tFrom worker 6:\t    testing InverseGaussian()\n",
      "\tFrom worker 6:\t    testing InverseGaussian(0.8)\n",
      "\tFrom worker 6:\t    testing InverseGaussian(2.0)\n",
      "\tFrom worker 6:\t    testing Laplace()\n",
      "\tFrom worker 6:\t    testing Laplace(2.0)\n",
      "\tFrom worker 6:\t    testing Laplace(0.0, 1.0)\n",
      "\tFrom worker 6:\t    testing Laplace(5.0, 1.0)\n",
      "\tFrom worker 6:\t    testing Laplace(5.0, 1.5)\n",
      "\tFrom worker 6:\t    testing Logistic()\n",
      "\tFrom worker 6:\t    testing Logistic(2.0)\n",
      "\tFrom worker 6:\t    testing Logistic(0.0, 1.0)\n",
      "\tFrom worker 6:\t    testing Logistic(5.0, 1.0)\n",
      "\tFrom worker 6:\t    testing Logistic(5.0, 1.5)\n",
      "\tFrom worker 6:\t    testing LogNormal()\n",
      "\tFrom worker 6:\t    testing LogNormal(0.0)\n",
      "\tFrom worker 6:\t    testing LogNormal(0.0, 2.0)\n",
      "\tFrom worker 9:\t    testing Distributions.MvLogNormal with normal distribution ZeroMeanFullNormal\n",
      "\tFrom worker 6:\t    testing Normal(0.0, 1.0)\n",
      "\tFrom worker 6:\t    testing Normal(-3.0, 2.0)\n",
      "\tFrom worker 6:\t    testing Normal(1.0, 10.0)\n",
      "\tFrom worker 6:\t    testing NormalCanon(0.0, 1.0)\n",
      "\tFrom worker 6:\t    testing NormalCanon(-1.0, 2.5)\n",
      "\tFrom worker 6:\t    testing NormalCanon(2.0, 0.8)\n",
      "\tFrom worker 6:\t    testing Pareto()\n",
      "\tFrom worker 6:\t    testing Pareto(2.0)\n",
      "\tFrom worker 6:\t    testing Pareto(2.0, 1.5)\n",
      "\tFrom worker 6:\t    testing Pareto(3.0, 2.0)\n",
      "\tFrom worker 6:\t    testing Rayleigh()\n",
      "\tFrom worker 6:\t    testing Rayleigh(3.0)\n",
      "\tFrom worker 6:\t    testing Rayleigh(8.0)\n",
      "\tFrom worker 6:\t    testing SymTriangularDist()\n",
      "\tFrom worker 6:\t    testing SymTriangularDist(3.0)\n",
      "\tFrom worker 6:\t    testing SymTriangularDist(3.0, 0.5)\n",
      "\tFrom worker 6:\t    testing SymTriangularDist(3.0, 2.0)\n",
      "\tFrom worker 6:\t    testing SymTriangularDist(10.0, 8.0)\n",
      "\tFrom worker 6:\t    testing TDist(1.2)\n",
      "\tFrom worker 6:\t    testing TDist(5.0)\n",
      "\tFrom worker 6:\t    testing TDist(28.0)\n",
      "\tFrom worker 6:\t    testing TriangularDist(0, 5)\n",
      "\tFrom worker 6:\t    testing TriangularDist(-7, 2)\n",
      "\tFrom worker 6:\t    testing TriangularDist(-4, 14, 3)\n",
      "\tFrom worker 6:\t    testing TriangularDist(2, 2000, 500)\n",
      "\tFrom worker 6:\t    testing TriangularDist(1, 3, 2)\n",
      "\tFrom worker 6:\t    testing TruncatedNormal(0, 1, -2, 2)\n",
      "\tFrom worker 6:\t    testing TruncatedNormal(3, 10, 7, 8)\n",
      "\tFrom worker 6:\t    testing TruncatedNormal(27, 3, 0, Inf)\n",
      "\tFrom worker 6:\t    testing TruncatedNormal(-5, 1, -Inf, -10)\n",
      "\tFrom worker 6:\t    testing TruncatedNormal(1.8, 1.2, -Inf, 0)\n",
      "\tFrom worker 6:\t    testing Uniform(0.0, 1.0)\n",
      "\tFrom worker 6:\t    testing Uniform(3.0, 17.0)\n",
      "\tFrom worker 6:\t    testing Uniform(3.0, 3.1)\n",
      "\tFrom worker 6:\t    testing Weibull()\n",
      "\tFrom worker 6:\t    testing Weibull(0.5)\n",
      "\tFrom worker 6:\t    testing Weibull(5.0)\n",
      "\tFrom worker 6:\t    testing Weibull(20.0, 1.0)\n",
      "\tFrom worker 6:\t    testing Weibull(1.0, 2.0)\n",
      "\tFrom worker 6:\t    testing Weibull(5.0, 2.0)\n",
      "\tFrom worker 6:\t\n"
     ]
    },
    {
     "name": "stderr",
     "output_type": "stream",
     "text": [
      "INFO: Distributions tests passed\n",
      "INFO: Removing ForwardDiff v0.1.8\n"
     ]
    }
   ],
   "source": [
    "Pkg.test(\"Distributions\")"
   ]
  },
  {
   "cell_type": "markdown",
   "metadata": {},
   "source": [
    "Finally, from time to time we need to make sure that all of our packages are up-to-date. Since Julia is a living ecosystem, it is important to update regularily."
   ]
  },
  {
   "cell_type": "code",
   "execution_count": 3,
   "metadata": {
    "collapsed": false
   },
   "outputs": [
    {
     "name": "stderr",
     "output_type": "stream",
     "text": [
      "INFO: Updating METADATA...\n",
      "INFO: Computing changes...\n",
      "INFO: No packages to install, update or remove\n"
     ]
    }
   ],
   "source": [
    "Pkg.update()"
   ]
  },
  {
   "cell_type": "markdown",
   "metadata": {},
   "source": [
    "---\n",
    "\n",
    "## Variables & Types\n",
    "In Julia, we have all of the common types of variables, from integers to symbols. Lets take a look at a few examples"
   ]
  },
  {
   "cell_type": "code",
   "execution_count": 25,
   "metadata": {
    "collapsed": false
   },
   "outputs": [
    {
     "name": "stdout",
     "output_type": "stream",
     "text": [
      "x = 3 is of type Int64.\n"
     ]
    }
   ],
   "source": [
    "# A 64-bit Integer value\n",
    "x = 3       \n",
    "println(\"x = $x is of type $(typeof(x)).\")\n"
   ]
  },
  {
   "cell_type": "markdown",
   "metadata": {},
   "source": [
    "> *Notice the use of *`$(variable)`* inside of a string to insert varaibles!*"
   ]
  },
  {
   "cell_type": "code",
   "execution_count": 34,
   "metadata": {
    "collapsed": false
   },
   "outputs": [
    {
     "name": "stdout",
     "output_type": "stream",
     "text": [
      "x = 2.718281828459 is of type Float64.\n"
     ]
    }
   ],
   "source": [
    "# A 64-bit Floating Point value\n",
    "x = 2.7182818284590\n",
    "println(\"x = $x is of type $(typeof(x)).\")"
   ]
  },
  {
   "cell_type": "code",
   "execution_count": 43,
   "metadata": {
    "collapsed": false
   },
   "outputs": [
    {
     "name": "stdout",
     "output_type": "stream",
     "text": [
      "x = Hello World is of type ASCIIString.\n",
      "x = «École Normale Supérieure»  Ωç≈ is of type UTF8String.\n",
      "x = $\\mathcal{Z} = \\sum_{\\mathb{s}} e^{\\sum_{<i,j>} J_{ij} s_i s_j}$ is of type LaTeXStrings.LaTeXString.\n"
     ]
    }
   ],
   "source": [
    "# An ASCII String\n",
    "x = \"Hello World\"\n",
    "println(\"x = $x is of type $(typeof(x)).\")\n",
    "\n",
    "# A UTF String\n",
    "x = \"«École Normale Supérieure»  Ωç≈\"\n",
    "println(\"x = $x is of type $(typeof(x)).\")\n",
    "\n",
    "# A TeX String\n",
    "using LaTeXStrings\n",
    "x = L\"\\mathcal{Z} = \\sum_{\\mathb{s}} e^{\\sum_{<i,j>} J_{ij} s_i s_j}\"\n",
    "println(\"x = $x is of type $(typeof(x)).\")"
   ]
  },
  {
   "cell_type": "code",
   "execution_count": 44,
   "metadata": {
    "collapsed": false
   },
   "outputs": [
    {
     "name": "stdout",
     "output_type": "stream",
     "text": [
      "x = optionA is of type Symbol.\n",
      "Perform optionA.\n"
     ]
    }
   ],
   "source": [
    "# A Symbol\n",
    "x = :optionA\n",
    "println(\"x = $x is of type $(typeof(x)).\")\n",
    "\n",
    "# Using a symbol\n",
    "if x == :optionB\n",
    "    println(\"Perform optionB.\")\n",
    "elseif x == :optionA\n",
    "    println(\"Perform optionA.\")\n",
    "else\n",
    "    println(\"Not an option!\")\n",
    "end"
   ]
  },
  {
   "cell_type": "code",
   "execution_count": 49,
   "metadata": {
    "collapsed": false
   },
   "outputs": [
    {
     "name": "stdout",
     "output_type": "stream",
     "text": [
      "x = Dict(:optionB=>\"valueB\",:optionA=>\"valueA\") is of type Dict{Symbol,ASCIIString}.\n",
      "valueA\n",
      "valueB\n"
     ]
    },
    {
     "ename": "LoadError",
     "evalue": "LoadError: KeyError: unseenOption not found\nwhile loading In[49], in expression starting on line 8",
     "output_type": "error",
     "traceback": [
      "LoadError: KeyError: unseenOption not found\nwhile loading In[49], in expression starting on line 8",
      "",
      " in getindex at dict.jl:724"
     ]
    }
   ],
   "source": [
    "# A Dictionary\n",
    "x = Dict(:optionA => \"valueA\", :optionB => \"valueB\")\n",
    "println(\"x = $x is of type $(typeof(x)).\")\n",
    "\n",
    "# Referencing items in a dictionary\n",
    "println(x[:optionA])\n",
    "println(x[:optionB])\n",
    "println(x[:unseenOption])"
   ]
  },
  {
   "cell_type": "code",
   "execution_count": 51,
   "metadata": {
    "collapsed": false
   },
   "outputs": [
    {
     "name": "stdout",
     "output_type": "stream",
     "text": [
      "Dict{Symbol,ASCIIString} len 3\n",
      "  unseenOption: ASCIIString \"anotherValue\"\n",
      "  optionB: ASCIIString \"valueB\"\n",
      "  optionA: ASCIIString \"valueA\"\n"
     ]
    }
   ],
   "source": [
    "x[:unseenOption] = \"anotherValue\"\n",
    "dump(x)"
   ]
  },
  {
   "cell_type": "markdown",
   "metadata": {},
   "source": [
    "---\n",
    "\n",
    "## Arrays and Lists\n",
    "Lets do a few basic operations to see how Julia works with arrays."
   ]
  },
  {
   "cell_type": "code",
   "execution_count": 65,
   "metadata": {
    "collapsed": false
   },
   "outputs": [
    {
     "data": {
      "text/plain": [
       "false"
      ]
     },
     "execution_count": 65,
     "metadata": {},
     "output_type": "execute_result"
    }
   ],
   "source": [
    "A = [1 2 3 4 5]     # Define an Array, A\n",
    "B = [1,2,3,4,5]     # Define an Array, B\n",
    "A == B              # Are these the same array?"
   ]
  },
  {
   "cell_type": "markdown",
   "metadata": {},
   "source": [
    "What happened, here? We thought that we have two arrays, each containing the same entries, but they don't evaluate as equal. Lets investigate a bit. Can we add these arrays together?"
   ]
  },
  {
   "cell_type": "code",
   "execution_count": 54,
   "metadata": {
    "collapsed": false
   },
   "outputs": [
    {
     "ename": "LoadError",
     "evalue": "LoadError: DimensionMismatch(\"dimensions must match\")\nwhile loading In[54], in expression starting on line 1",
     "output_type": "error",
     "traceback": [
      "LoadError: DimensionMismatch(\"dimensions must match\")\nwhile loading In[54], in expression starting on line 1",
      "",
      " in promote_shape at operators.jl:211",
      " in + at arraymath.jl:96"
     ]
    }
   ],
   "source": [
    "C = A + B"
   ]
  },
  {
   "cell_type": "markdown",
   "metadata": {},
   "source": [
    "In fact, we cannot, even add these two arrays together. However, our error message gives us some information. It seems that we have a mismatch of dimensionality. But, why?"
   ]
  },
  {
   "cell_type": "code",
   "execution_count": 57,
   "metadata": {
    "collapsed": false
   },
   "outputs": [
    {
     "name": "stdout",
     "output_type": "stream",
     "text": [
      "Array(Int64,(1,5)) 1x5 Array{Int64,2}:\n",
      " 1  2  3  4  5\n"
     ]
    },
    {
     "data": {
      "text/plain": [
       "\"1x5 Array{Int64,2}\""
      ]
     },
     "execution_count": 57,
     "metadata": {},
     "output_type": "execute_result"
    }
   ],
   "source": [
    "dump(A)\n",
    "summary(A)"
   ]
  },
  {
   "cell_type": "code",
   "execution_count": 66,
   "metadata": {
    "collapsed": false
   },
   "outputs": [
    {
     "name": "stdout",
     "output_type": "stream",
     "text": [
      "Array(Int64,(5,)) [1,2,3,4,5]\n"
     ]
    }
   ],
   "source": [
    "dump(B)"
   ]
  },
  {
   "cell_type": "markdown",
   "metadata": {},
   "source": [
    "Now we see the issue. In our definition of `A`, we used spaces, while in our definition of `B` we use commas. By using spaces, we are forcing the entries to take new columns, making `A` a *two-dimensional array*. However, `B` remains a one dimensional array, or list, as we refer to items separated by commas. Hence the mismatch!\n",
    "\n",
    "Lets say we are still intent on adding these two arrays together, and we know that the `A` has only one row. We can cast it as a vector to accomplish our desired operation."
   ]
  },
  {
   "cell_type": "code",
   "execution_count": 79,
   "metadata": {
    "collapsed": false
   },
   "outputs": [
    {
     "name": "stdout",
     "output_type": "stream",
     "text": [
      "  0.000004 seconds (7 allocations: 320 bytes)\n"
     ]
    },
    {
     "data": {
      "text/plain": [
       "5-element Array{Int64,1}:\n",
       "  2\n",
       "  4\n",
       "  6\n",
       "  8\n",
       " 10"
      ]
     },
     "execution_count": 79,
     "metadata": {},
     "output_type": "execute_result"
    }
   ],
   "source": [
    "@time C = vec(A) + B"
   ]
  },
  {
   "cell_type": "markdown",
   "metadata": {},
   "source": [
    "We can see that the resulting output is as a list, a one dimensional array. But what happens if we attempt to use the transpose operation, thinking that we can change the column-vector `A` to be compatible with the row-vector `B`?"
   ]
  },
  {
   "cell_type": "code",
   "execution_count": 16,
   "metadata": {
    "collapsed": false
   },
   "outputs": [
    {
     "data": {
      "text/plain": [
       "5x1 Array{Int64,2}:\n",
       "  2\n",
       "  4\n",
       "  6\n",
       "  8\n",
       " 10"
      ]
     },
     "execution_count": 16,
     "metadata": {},
     "output_type": "execute_result"
    }
   ],
   "source": [
    "C = A' + B"
   ]
  },
  {
   "cell_type": "markdown",
   "metadata": {},
   "source": [
    "The result is indeed a row-vector, however, notice the difference in dimensionlaity. In this case, the result `C` is explicitly a *two-dimensional array*, which just happens to have a single column. So, we see that Julia will **promote** the type of `B` from a list to a two-dimensional array in order to accomplish the addition as all lists/vectors are assumed to be row-vectors.\n",
    "\n",
    "Now, lets say we want to do something a little bit more interesting. One of the features of Julia is that it can handle operation **broadcasting** in a simple manner. We denote a broadcast by the `.` operator before the operation. Lets see what happens if we try to add our column and row vectors together..."
   ]
  },
  {
   "cell_type": "code",
   "execution_count": 72,
   "metadata": {
    "collapsed": false
   },
   "outputs": [
    {
     "name": "stdout",
     "output_type": "stream",
     "text": [
      "  0.000021 seconds (22 allocations: 1.109 KB)\n"
     ]
    },
    {
     "data": {
      "text/plain": [
       "5x5 Array{Int64,2}:\n",
       " 2  3  4  5   6\n",
       " 3  4  5  6   7\n",
       " 4  5  6  7   8\n",
       " 5  6  7  8   9\n",
       " 6  7  8  9  10"
      ]
     },
     "execution_count": 72,
     "metadata": {},
     "output_type": "execute_result"
    }
   ],
   "source": [
    "@time C = A .+ B"
   ]
  },
  {
   "cell_type": "markdown",
   "metadata": {},
   "source": [
    "This is an interesting result. We see that we get a full matrix of values. Why? When we broadcast an operation between a matrix and a vector, it will extend the vector out (via repetition) to math the dimension of the matrix. In this case, both vectors are extended out to fit the non-singleton dimension of the other. Subsequently, the addition operation is carried out. We could duplicate the same operation explicitly via..."
   ]
  },
  {
   "cell_type": "code",
   "execution_count": 73,
   "metadata": {
    "collapsed": false
   },
   "outputs": [
    {
     "name": "stdout",
     "output_type": "stream",
     "text": [
      "  0.000008 seconds (30 allocations: 1.859 KB)\n"
     ]
    },
    {
     "data": {
      "text/plain": [
       "5x5 Array{Int64,2}:\n",
       " 2  3  4  5   6\n",
       " 3  4  5  6   7\n",
       " 4  5  6  7   8\n",
       " 5  6  7  8   9\n",
       " 6  7  8  9  10"
      ]
     },
     "execution_count": 73,
     "metadata": {},
     "output_type": "execute_result"
    }
   ],
   "source": [
    "@time C = repmat(A,5,1) + repmat(B,1,5)"
   ]
  },
  {
   "cell_type": "code",
   "execution_count": 74,
   "metadata": {
    "collapsed": false
   },
   "outputs": [
    {
     "name": "stdout",
     "output_type": "stream",
     "text": [
      "search: repmat\n",
      "\n"
     ]
    },
    {
     "data": {
      "text/latex": [
       "\\begin{verbatim}\n",
       "repmat(A, n, m)\n",
       "\\end{verbatim}\n",
       "Construct a matrix by repeating the given matrix \\texttt{n} times in dimension 1 and \\texttt{m} times in dimension 2.\n"
      ],
      "text/markdown": [
       "```\n",
       "repmat(A, n, m)\n",
       "```\n",
       "\n",
       "Construct a matrix by repeating the given matrix `n` times in dimension 1 and `m` times in dimension 2.\n"
      ],
      "text/plain": [
       "```\n",
       "repmat(A, n, m)\n",
       "```\n",
       "\n",
       "Construct a matrix by repeating the given matrix `n` times in dimension 1 and `m` times in dimension 2.\n"
      ]
     },
     "execution_count": 74,
     "metadata": {},
     "output_type": "execute_result"
    }
   ],
   "source": [
    "?repmat"
   ]
  },
  {
   "cell_type": "markdown",
   "metadata": {},
   "source": [
    "Lets try some other ways of constructing `A` and `B`. We can also define *ranges* of variables. In this case, lets use the range `1:5`, which is understood as the range `1:1:5` by Julia, i.e., counting from 1 to 5, inclusively, by ones."
   ]
  },
  {
   "cell_type": "code",
   "execution_count": 81,
   "metadata": {
    "collapsed": false
   },
   "outputs": [
    {
     "name": "stdout",
     "output_type": "stream",
     "text": [
      "  0.000003 seconds (6 allocations: 288 bytes)\n"
     ]
    },
    {
     "data": {
      "text/plain": [
       "5-element Array{Int64,1}:\n",
       "  2\n",
       "  4\n",
       "  6\n",
       "  8\n",
       " 10"
      ]
     },
     "execution_count": 81,
     "metadata": {},
     "output_type": "execute_result"
    }
   ],
   "source": [
    "A = 1:5\n",
    "@time C = A + B"
   ]
  },
  {
   "cell_type": "markdown",
   "metadata": {},
   "source": [
    "This is a valid addition operation, in our case. The range of `A` is interpreted as a vector, in this case, and added to `B`. What happens if `B` is also a list?"
   ]
  },
  {
   "cell_type": "code",
   "execution_count": 82,
   "metadata": {
    "collapsed": false
   },
   "outputs": [
    {
     "data": {
      "text/plain": [
       "2:2:10"
      ]
     },
     "execution_count": 82,
     "metadata": {},
     "output_type": "execute_result"
    }
   ],
   "source": [
    "B = 1:5\n",
    "C = A + B"
   ]
  },
  {
   "cell_type": "markdown",
   "metadata": {},
   "source": [
    "We can see that instead of getting a vector, we get another range, taken as the addition of the elements of each of the individual ranges, e.g. `1+1:1+1:5+5`. Considering our previous result of `[2,4,6,8,10]`, we see that this range is still giving us an expected result, just in a different form. What if we wanted to read this as a vector?"
   ]
  },
  {
   "cell_type": "code",
   "execution_count": 83,
   "metadata": {
    "collapsed": false
   },
   "outputs": [
    {
     "data": {
      "text/plain": [
       "5-element Array{Int64,1}:\n",
       "  2\n",
       "  4\n",
       "  6\n",
       "  8\n",
       " 10"
      ]
     },
     "execution_count": 83,
     "metadata": {},
     "output_type": "execute_result"
    }
   ],
   "source": [
    "collect(C)"
   ]
  },
  {
   "cell_type": "code",
   "execution_count": 85,
   "metadata": {
    "collapsed": false
   },
   "outputs": [
    {
     "name": "stdout",
     "output_type": "stream",
     "text": [
      "search: collect Collections\n",
      "\n"
     ]
    },
    {
     "data": {
      "text/latex": [
       "\\begin{verbatim}\n",
       "collect(collection)\n",
       "\\end{verbatim}\n",
       "Return an array of all items in a collection. For associative collections, returns Pair\\{KeyType, ValType\\}.\n",
       "\\begin{verbatim}\n",
       "collect(element_type, collection)\n",
       "\\end{verbatim}\n",
       "Return an array of type \\texttt{Array{element_type,1}} of all items in a collection.\n"
      ],
      "text/markdown": [
       "```\n",
       "collect(collection)\n",
       "```\n",
       "\n",
       "Return an array of all items in a collection. For associative collections, returns Pair{KeyType, ValType}.\n",
       "\n",
       "```\n",
       "collect(element_type, collection)\n",
       "```\n",
       "\n",
       "Return an array of type `Array{element_type,1}` of all items in a collection.\n"
      ],
      "text/plain": [
       "```\n",
       "collect(collection)\n",
       "```\n",
       "\n",
       "Return an array of all items in a collection. For associative collections, returns Pair{KeyType, ValType}.\n",
       "\n",
       "```\n",
       "collect(element_type, collection)\n",
       "```\n",
       "\n",
       "Return an array of type `Array{element_type,1}` of all items in a collection.\n"
      ]
     },
     "execution_count": 85,
     "metadata": {},
     "output_type": "execute_result"
    }
   ],
   "source": [
    "?collect"
   ]
  },
  {
   "cell_type": "markdown",
   "metadata": {},
   "source": [
    "---\n",
    "\n",
    "## Comprehensions\n",
    "We could also have defined our lists in another way, by comprehensions. For example..."
   ]
  },
  {
   "cell_type": "code",
   "execution_count": 86,
   "metadata": {
    "collapsed": false
   },
   "outputs": [
    {
     "name": "stdout",
     "output_type": "stream",
     "text": [
      "Array(Int64,(5,)) [1,2,3,4,5]\n",
      "Array(Int64,(5,)) [1,2,3,4,5]\n"
     ]
    },
    {
     "data": {
      "text/plain": [
       "5-element Array{Int64,1}:\n",
       "  2\n",
       "  4\n",
       "  6\n",
       "  8\n",
       " 10"
      ]
     },
     "execution_count": 86,
     "metadata": {},
     "output_type": "execute_result"
    }
   ],
   "source": [
    "A = [i for i in 1:5]\n",
    "B = [i for i in 1:5]\n",
    "dump(A)\n",
    "dump(B)\n",
    "C = A + B"
   ]
  },
  {
   "cell_type": "markdown",
   "metadata": {},
   "source": [
    "Comprehensions can be a powerful tool for short-form expressions. For instance..."
   ]
  },
  {
   "cell_type": "code",
   "execution_count": 87,
   "metadata": {
    "collapsed": false
   },
   "outputs": [
    {
     "name": "stdout",
     "output_type": "stream",
     "text": [
      "Array(Float64,(63,)) [0.0,0.0998334,0.198669,0.29552,0.389418,0.479426,0.564642,0.644218,0.717356,0.783327  …  -0.832267,-0.772764,-0.70554,-0.631267,-0.550686,-0.464602,-0.373877,-0.279415,-0.182163,-0.0830894]\n",
      "Array(Float64,(63,)) [1.0,0.995004,0.980067,0.955336,0.921061,0.877583,0.825336,0.764842,0.696707,0.62161  …  0.554374,0.634693,0.70867,0.775566,0.834713,0.88552,0.927478,0.96017,0.983268,0.996542]\n"
     ]
    },
    {
     "data": {
      "text/plain": [
       "63-element Array{Float64,1}:\n",
       " 1.0\n",
       " 1.0\n",
       " 1.0\n",
       " 1.0\n",
       " 1.0\n",
       " 1.0\n",
       " 1.0\n",
       " 1.0\n",
       " 1.0\n",
       " 1.0\n",
       " 1.0\n",
       " 1.0\n",
       " 1.0\n",
       " ⋮  \n",
       " 1.0\n",
       " 1.0\n",
       " 1.0\n",
       " 1.0\n",
       " 1.0\n",
       " 1.0\n",
       " 1.0\n",
       " 1.0\n",
       " 1.0\n",
       " 1.0\n",
       " 1.0\n",
       " 1.0"
      ]
     },
     "execution_count": 87,
     "metadata": {},
     "output_type": "execute_result"
    }
   ],
   "source": [
    "A = [sin(i) for i in 0:0.1:2*pi]\n",
    "B = [cos(i) for i in 0:0.1:2*pi]\n",
    "dump(A)\n",
    "dump(B)\n",
    "C = A.^2 + B.^2      # Trig. Identity"
   ]
  },
  {
   "cell_type": "markdown",
   "metadata": {},
   "source": [
    "Note here, that in order to accomplish the square operation per-element, we make use of the `.` operator again. At its root, in Julia, this operator signifies a per-element operation. However, Julia will *also* broadcast that opeartion when necessary."
   ]
  },
  {
   "cell_type": "code",
   "execution_count": 88,
   "metadata": {
    "collapsed": false
   },
   "outputs": [
    {
     "name": "stdout",
     "output_type": "stream",
     "text": [
      "search: .^\n",
      "\n"
     ]
    },
    {
     "data": {
      "text/latex": [
       "\\begin{verbatim}\n",
       ".^(x, y)\n",
       "\\end{verbatim}\n",
       "Element-wise exponentiation operator.\n"
      ],
      "text/markdown": [
       "```\n",
       ".^(x, y)\n",
       "```\n",
       "\n",
       "Element-wise exponentiation operator.\n"
      ],
      "text/plain": [
       "```\n",
       ".^(x, y)\n",
       "```\n",
       "\n",
       "Element-wise exponentiation operator.\n"
      ]
     },
     "execution_count": 88,
     "metadata": {},
     "output_type": "execute_result"
    }
   ],
   "source": [
    "?.^"
   ]
  },
  {
   "cell_type": "markdown",
   "metadata": {},
   "source": [
    "We can even construct multidimensional arrays through comprehensions, as well. Say we wanted to duplicate the earlier result of `C = A .+ B`, for instance."
   ]
  },
  {
   "cell_type": "code",
   "execution_count": 89,
   "metadata": {
    "collapsed": false
   },
   "outputs": [
    {
     "data": {
      "text/plain": [
       "5x5 Array{Int64,2}:\n",
       " 2  3  4  5   6\n",
       " 3  4  5  6   7\n",
       " 4  5  6  7   8\n",
       " 5  6  7  8   9\n",
       " 6  7  8  9  10"
      ]
     },
     "execution_count": 89,
     "metadata": {},
     "output_type": "execute_result"
    }
   ],
   "source": [
    "C = [i+j for i in 1:5, j in 1:5]"
   ]
  },
  {
   "cell_type": "markdown",
   "metadata": {},
   "source": [
    "So, comprehensions seem pretty powerful, as compared to Matlab. But in the case of a multidimensional array, how are the dimensions proportioned? Lets use Tuples to see where, exactly, the entries of our solution go. Lets resize one of the dimensions so that we can tell them apart."
   ]
  },
  {
   "cell_type": "code",
   "execution_count": 28,
   "metadata": {
    "collapsed": false
   },
   "outputs": [
    {
     "data": {
      "text/plain": [
       "5x3 Array{Tuple{Int64,Int64},2}:\n",
       " (1,1)  (1,2)  (1,3)\n",
       " (2,1)  (2,2)  (2,3)\n",
       " (3,1)  (3,2)  (3,3)\n",
       " (4,1)  (4,2)  (4,3)\n",
       " (5,1)  (5,2)  (5,3)"
      ]
     },
     "execution_count": 28,
     "metadata": {},
     "output_type": "execute_result"
    }
   ],
   "source": [
    "C = [(i,j) for i in 1:5, j in 1:3]"
   ]
  },
  {
   "cell_type": "markdown",
   "metadata": {},
   "source": [
    "We see that the dimensions are assigned in order of the definition in the comprehension, i.e. `i in 1:5` is interpreted as an index over rows (of which there will be 5) and `j in 1:3`, since it comes second, is interpreted as an index across columns (of which there will be 3), and so on. We can do the same for higher-dimensional tensors."
   ]
  },
  {
   "cell_type": "code",
   "execution_count": 29,
   "metadata": {
    "collapsed": false
   },
   "outputs": [
    {
     "data": {
      "text/plain": [
       "5x3x2 Array{Tuple{Int64,Int64,Int64},3}:\n",
       "[:, :, 1] =\n",
       " (1,1,1)  (1,2,1)  (1,3,1)\n",
       " (2,1,1)  (2,2,1)  (2,3,1)\n",
       " (3,1,1)  (3,2,1)  (3,3,1)\n",
       " (4,1,1)  (4,2,1)  (4,3,1)\n",
       " (5,1,1)  (5,2,1)  (5,3,1)\n",
       "\n",
       "[:, :, 2] =\n",
       " (1,1,2)  (1,2,2)  (1,3,2)\n",
       " (2,1,2)  (2,2,2)  (2,3,2)\n",
       " (3,1,2)  (3,2,2)  (3,3,2)\n",
       " (4,1,2)  (4,2,2)  (4,3,2)\n",
       " (5,1,2)  (5,2,2)  (5,3,2)"
      ]
     },
     "execution_count": 29,
     "metadata": {},
     "output_type": "execute_result"
    }
   ],
   "source": [
    "C = [(i,j,k) for i in 1:5, j in 1:3, k in 1:2]"
   ]
  },
  {
   "cell_type": "markdown",
   "metadata": {},
   "source": [
    "Looking at the reported dimensionality of the tensor (`5x3x2`), we see that the dimension assignments match the order of our variabe definitions in the comprehension."
   ]
  },
  {
   "cell_type": "markdown",
   "metadata": {},
   "source": [
    "---\n",
    "\n",
    "## Indexing\n",
    "We now look to see how to accomplish array indexing. Arrays are indexed in much the same as in Matlab, except for the notation. In Julia, we use `[]` to index arrays instead of `()`. Otherwise, it is the same. For two dimensional arrays, the indexing is done by `[row,col]`.  "
   ]
  },
  {
   "cell_type": "code",
   "execution_count": 102,
   "metadata": {
    "collapsed": false
   },
   "outputs": [
    {
     "name": "stdout",
     "output_type": "stream",
     "text": [
      "Bool[true,true,true,false,false]\n",
      "[1,2,3]\n"
     ]
    },
    {
     "data": {
      "text/plain": [
       "3-element Array{Int64,1}:\n",
       " 1\n",
       " 2\n",
       " 3"
      ]
     },
     "execution_count": 102,
     "metadata": {},
     "output_type": "execute_result"
    }
   ],
   "source": [
    "A = [1,2,3,4,5]\n",
    "println(A .< 4)\n",
    "println(find(A .< 4))\n",
    "\n",
    "A[ 1:3 ]"
   ]
  },
  {
   "cell_type": "code",
   "execution_count": null,
   "metadata": {
    "collapsed": true
   },
   "outputs": [],
   "source": []
  }
 ],
 "metadata": {
  "kernelspec": {
   "display_name": "Julia 0.4.5",
   "language": "julia",
   "name": "julia-0.4"
  },
  "language_info": {
   "file_extension": ".jl",
   "mimetype": "application/julia",
   "name": "julia",
   "version": "0.4.5"
  }
 },
 "nbformat": 4,
 "nbformat_minor": 0
}
